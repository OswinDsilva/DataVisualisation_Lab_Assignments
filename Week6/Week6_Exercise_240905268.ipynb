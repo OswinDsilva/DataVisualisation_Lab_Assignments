{
 "cells": [
  {
   "cell_type": "code",
   "execution_count": 169,
   "id": "7ff104c6",
   "metadata": {},
   "outputs": [],
   "source": [
    "# Data visualization\n",
    "# BTech Computer Science Stream, January 2025\n",
    "# Week 6 Data Visualization: context, effective visuals and storytelling\n",
    "# Name: Oswin Vion Dsilva, 240905268,Section CE, Date: 20/01/2024"
   ]
  },
  {
   "cell_type": "code",
   "execution_count": 170,
   "id": "4d0b09d1",
   "metadata": {},
   "outputs": [],
   "source": [
    "import pandas as pd\n",
    "import numpy as np"
   ]
  },
  {
   "cell_type": "code",
   "execution_count": 171,
   "id": "323b3eed",
   "metadata": {},
   "outputs": [
    {
     "data": {
      "text/html": [
       "<div>\n",
       "<style scoped>\n",
       "    .dataframe tbody tr th:only-of-type {\n",
       "        vertical-align: middle;\n",
       "    }\n",
       "\n",
       "    .dataframe tbody tr th {\n",
       "        vertical-align: top;\n",
       "    }\n",
       "\n",
       "    .dataframe thead th {\n",
       "        text-align: right;\n",
       "    }\n",
       "</style>\n",
       "<table border=\"1\" class=\"dataframe\">\n",
       "  <thead>\n",
       "    <tr style=\"text-align: right;\">\n",
       "      <th></th>\n",
       "      <th>mpg</th>\n",
       "      <th>cyl</th>\n",
       "      <th>disp</th>\n",
       "      <th>hp</th>\n",
       "      <th>drat</th>\n",
       "      <th>wt</th>\n",
       "      <th>qsec</th>\n",
       "      <th>vs</th>\n",
       "      <th>am</th>\n",
       "      <th>gear</th>\n",
       "      <th>carb</th>\n",
       "    </tr>\n",
       "    <tr>\n",
       "      <th>model</th>\n",
       "      <th></th>\n",
       "      <th></th>\n",
       "      <th></th>\n",
       "      <th></th>\n",
       "      <th></th>\n",
       "      <th></th>\n",
       "      <th></th>\n",
       "      <th></th>\n",
       "      <th></th>\n",
       "      <th></th>\n",
       "      <th></th>\n",
       "    </tr>\n",
       "  </thead>\n",
       "  <tbody>\n",
       "    <tr>\n",
       "      <th>Mazda RX4</th>\n",
       "      <td>21.0</td>\n",
       "      <td>6</td>\n",
       "      <td>160.0</td>\n",
       "      <td>110</td>\n",
       "      <td>3.90</td>\n",
       "      <td>2.620</td>\n",
       "      <td>16.46</td>\n",
       "      <td>0</td>\n",
       "      <td>1</td>\n",
       "      <td>4</td>\n",
       "      <td>4</td>\n",
       "    </tr>\n",
       "    <tr>\n",
       "      <th>Mazda RX4 Wag</th>\n",
       "      <td>21.0</td>\n",
       "      <td>6</td>\n",
       "      <td>160.0</td>\n",
       "      <td>110</td>\n",
       "      <td>3.90</td>\n",
       "      <td>2.875</td>\n",
       "      <td>17.02</td>\n",
       "      <td>0</td>\n",
       "      <td>1</td>\n",
       "      <td>4</td>\n",
       "      <td>4</td>\n",
       "    </tr>\n",
       "    <tr>\n",
       "      <th>Datsun 710</th>\n",
       "      <td>22.8</td>\n",
       "      <td>4</td>\n",
       "      <td>108.0</td>\n",
       "      <td>93</td>\n",
       "      <td>3.85</td>\n",
       "      <td>2.320</td>\n",
       "      <td>18.61</td>\n",
       "      <td>1</td>\n",
       "      <td>1</td>\n",
       "      <td>4</td>\n",
       "      <td>1</td>\n",
       "    </tr>\n",
       "    <tr>\n",
       "      <th>Hornet 4 Drive</th>\n",
       "      <td>21.4</td>\n",
       "      <td>6</td>\n",
       "      <td>258.0</td>\n",
       "      <td>110</td>\n",
       "      <td>3.08</td>\n",
       "      <td>3.215</td>\n",
       "      <td>19.44</td>\n",
       "      <td>1</td>\n",
       "      <td>0</td>\n",
       "      <td>3</td>\n",
       "      <td>1</td>\n",
       "    </tr>\n",
       "    <tr>\n",
       "      <th>Hornet Sportabout</th>\n",
       "      <td>18.7</td>\n",
       "      <td>8</td>\n",
       "      <td>360.0</td>\n",
       "      <td>175</td>\n",
       "      <td>3.15</td>\n",
       "      <td>3.440</td>\n",
       "      <td>17.02</td>\n",
       "      <td>0</td>\n",
       "      <td>0</td>\n",
       "      <td>3</td>\n",
       "      <td>2</td>\n",
       "    </tr>\n",
       "  </tbody>\n",
       "</table>\n",
       "</div>"
      ],
      "text/plain": [
       "                    mpg  cyl   disp   hp  drat     wt   qsec  vs  am  gear  \\\n",
       "model                                                                        \n",
       "Mazda RX4          21.0    6  160.0  110  3.90  2.620  16.46   0   1     4   \n",
       "Mazda RX4 Wag      21.0    6  160.0  110  3.90  2.875  17.02   0   1     4   \n",
       "Datsun 710         22.8    4  108.0   93  3.85  2.320  18.61   1   1     4   \n",
       "Hornet 4 Drive     21.4    6  258.0  110  3.08  3.215  19.44   1   0     3   \n",
       "Hornet Sportabout  18.7    8  360.0  175  3.15  3.440  17.02   0   0     3   \n",
       "\n",
       "                   carb  \n",
       "model                    \n",
       "Mazda RX4             4  \n",
       "Mazda RX4 Wag         4  \n",
       "Datsun 710            1  \n",
       "Hornet 4 Drive        1  \n",
       "Hornet Sportabout     2  "
      ]
     },
     "execution_count": 171,
     "metadata": {},
     "output_type": "execute_result"
    }
   ],
   "source": [
    "# Question 1\n",
    "# For the MTCARS dataset, answer the specified questions with summarization and effective visuals.\n",
    "\n",
    "var_dfCars = pd.read_csv(\"mtcars.csv\", index_col = 0)\n",
    "\n",
    "var_dfCars.head()"
   ]
  },
  {
   "cell_type": "code",
   "execution_count": 172,
   "id": "7316f2db",
   "metadata": {},
   "outputs": [
    {
     "name": "stdout",
     "output_type": "stream",
     "text": [
      "<class 'pandas.core.frame.DataFrame'>\n",
      "Index: 32 entries, Mazda RX4 to Volvo 142E\n",
      "Data columns (total 11 columns):\n",
      " #   Column  Non-Null Count  Dtype  \n",
      "---  ------  --------------  -----  \n",
      " 0   mpg     32 non-null     float64\n",
      " 1   cyl     32 non-null     int64  \n",
      " 2   disp    32 non-null     float64\n",
      " 3   hp      32 non-null     int64  \n",
      " 4   drat    32 non-null     float64\n",
      " 5   wt      32 non-null     float64\n",
      " 6   qsec    32 non-null     float64\n",
      " 7   vs      32 non-null     int64  \n",
      " 8   am      32 non-null     int64  \n",
      " 9   gear    32 non-null     int64  \n",
      " 10  carb    32 non-null     int64  \n",
      "dtypes: float64(5), int64(6)\n",
      "memory usage: 3.0+ KB\n"
     ]
    }
   ],
   "source": [
    "var_dfCars.info()"
   ]
  },
  {
   "cell_type": "code",
   "execution_count": 173,
   "id": "fce4b753",
   "metadata": {},
   "outputs": [
    {
     "data": {
      "text/html": [
       "<div>\n",
       "<style scoped>\n",
       "    .dataframe tbody tr th:only-of-type {\n",
       "        vertical-align: middle;\n",
       "    }\n",
       "\n",
       "    .dataframe tbody tr th {\n",
       "        vertical-align: top;\n",
       "    }\n",
       "\n",
       "    .dataframe thead th {\n",
       "        text-align: right;\n",
       "    }\n",
       "</style>\n",
       "<table border=\"1\" class=\"dataframe\">\n",
       "  <thead>\n",
       "    <tr style=\"text-align: right;\">\n",
       "      <th></th>\n",
       "      <th>mpg</th>\n",
       "      <th>cyl</th>\n",
       "      <th>disp</th>\n",
       "      <th>hp</th>\n",
       "      <th>drat</th>\n",
       "      <th>wt</th>\n",
       "      <th>qsec</th>\n",
       "      <th>vs</th>\n",
       "      <th>am</th>\n",
       "      <th>gear</th>\n",
       "      <th>carb</th>\n",
       "    </tr>\n",
       "  </thead>\n",
       "  <tbody>\n",
       "    <tr>\n",
       "      <th>count</th>\n",
       "      <td>32.000000</td>\n",
       "      <td>32.000000</td>\n",
       "      <td>32.000000</td>\n",
       "      <td>32.000000</td>\n",
       "      <td>32.000000</td>\n",
       "      <td>32.000000</td>\n",
       "      <td>32.000000</td>\n",
       "      <td>32.000000</td>\n",
       "      <td>32.000000</td>\n",
       "      <td>32.000000</td>\n",
       "      <td>32.0000</td>\n",
       "    </tr>\n",
       "    <tr>\n",
       "      <th>mean</th>\n",
       "      <td>20.090625</td>\n",
       "      <td>6.187500</td>\n",
       "      <td>230.721875</td>\n",
       "      <td>146.687500</td>\n",
       "      <td>3.596563</td>\n",
       "      <td>3.217250</td>\n",
       "      <td>17.848750</td>\n",
       "      <td>0.437500</td>\n",
       "      <td>0.406250</td>\n",
       "      <td>3.687500</td>\n",
       "      <td>2.8125</td>\n",
       "    </tr>\n",
       "    <tr>\n",
       "      <th>std</th>\n",
       "      <td>6.026948</td>\n",
       "      <td>1.785922</td>\n",
       "      <td>123.938694</td>\n",
       "      <td>68.562868</td>\n",
       "      <td>0.534679</td>\n",
       "      <td>0.978457</td>\n",
       "      <td>1.786943</td>\n",
       "      <td>0.504016</td>\n",
       "      <td>0.498991</td>\n",
       "      <td>0.737804</td>\n",
       "      <td>1.6152</td>\n",
       "    </tr>\n",
       "    <tr>\n",
       "      <th>min</th>\n",
       "      <td>10.400000</td>\n",
       "      <td>4.000000</td>\n",
       "      <td>71.100000</td>\n",
       "      <td>52.000000</td>\n",
       "      <td>2.760000</td>\n",
       "      <td>1.513000</td>\n",
       "      <td>14.500000</td>\n",
       "      <td>0.000000</td>\n",
       "      <td>0.000000</td>\n",
       "      <td>3.000000</td>\n",
       "      <td>1.0000</td>\n",
       "    </tr>\n",
       "    <tr>\n",
       "      <th>25%</th>\n",
       "      <td>15.425000</td>\n",
       "      <td>4.000000</td>\n",
       "      <td>120.825000</td>\n",
       "      <td>96.500000</td>\n",
       "      <td>3.080000</td>\n",
       "      <td>2.581250</td>\n",
       "      <td>16.892500</td>\n",
       "      <td>0.000000</td>\n",
       "      <td>0.000000</td>\n",
       "      <td>3.000000</td>\n",
       "      <td>2.0000</td>\n",
       "    </tr>\n",
       "    <tr>\n",
       "      <th>50%</th>\n",
       "      <td>19.200000</td>\n",
       "      <td>6.000000</td>\n",
       "      <td>196.300000</td>\n",
       "      <td>123.000000</td>\n",
       "      <td>3.695000</td>\n",
       "      <td>3.325000</td>\n",
       "      <td>17.710000</td>\n",
       "      <td>0.000000</td>\n",
       "      <td>0.000000</td>\n",
       "      <td>4.000000</td>\n",
       "      <td>2.0000</td>\n",
       "    </tr>\n",
       "    <tr>\n",
       "      <th>75%</th>\n",
       "      <td>22.800000</td>\n",
       "      <td>8.000000</td>\n",
       "      <td>326.000000</td>\n",
       "      <td>180.000000</td>\n",
       "      <td>3.920000</td>\n",
       "      <td>3.610000</td>\n",
       "      <td>18.900000</td>\n",
       "      <td>1.000000</td>\n",
       "      <td>1.000000</td>\n",
       "      <td>4.000000</td>\n",
       "      <td>4.0000</td>\n",
       "    </tr>\n",
       "    <tr>\n",
       "      <th>max</th>\n",
       "      <td>33.900000</td>\n",
       "      <td>8.000000</td>\n",
       "      <td>472.000000</td>\n",
       "      <td>335.000000</td>\n",
       "      <td>4.930000</td>\n",
       "      <td>5.424000</td>\n",
       "      <td>22.900000</td>\n",
       "      <td>1.000000</td>\n",
       "      <td>1.000000</td>\n",
       "      <td>5.000000</td>\n",
       "      <td>8.0000</td>\n",
       "    </tr>\n",
       "  </tbody>\n",
       "</table>\n",
       "</div>"
      ],
      "text/plain": [
       "             mpg        cyl        disp          hp       drat         wt  \\\n",
       "count  32.000000  32.000000   32.000000   32.000000  32.000000  32.000000   \n",
       "mean   20.090625   6.187500  230.721875  146.687500   3.596563   3.217250   \n",
       "std     6.026948   1.785922  123.938694   68.562868   0.534679   0.978457   \n",
       "min    10.400000   4.000000   71.100000   52.000000   2.760000   1.513000   \n",
       "25%    15.425000   4.000000  120.825000   96.500000   3.080000   2.581250   \n",
       "50%    19.200000   6.000000  196.300000  123.000000   3.695000   3.325000   \n",
       "75%    22.800000   8.000000  326.000000  180.000000   3.920000   3.610000   \n",
       "max    33.900000   8.000000  472.000000  335.000000   4.930000   5.424000   \n",
       "\n",
       "            qsec         vs         am       gear     carb  \n",
       "count  32.000000  32.000000  32.000000  32.000000  32.0000  \n",
       "mean   17.848750   0.437500   0.406250   3.687500   2.8125  \n",
       "std     1.786943   0.504016   0.498991   0.737804   1.6152  \n",
       "min    14.500000   0.000000   0.000000   3.000000   1.0000  \n",
       "25%    16.892500   0.000000   0.000000   3.000000   2.0000  \n",
       "50%    17.710000   0.000000   0.000000   4.000000   2.0000  \n",
       "75%    18.900000   1.000000   1.000000   4.000000   4.0000  \n",
       "max    22.900000   1.000000   1.000000   5.000000   8.0000  "
      ]
     },
     "execution_count": 173,
     "metadata": {},
     "output_type": "execute_result"
    }
   ],
   "source": [
    "var_dfCars.describe()"
   ]
  },
  {
   "cell_type": "code",
   "execution_count": 174,
   "id": "dcc2a67a",
   "metadata": {},
   "outputs": [
    {
     "data": {
      "text/plain": [
       "(32, 11)"
      ]
     },
     "execution_count": 174,
     "metadata": {},
     "output_type": "execute_result"
    }
   ],
   "source": [
    "var_dfCars.shape"
   ]
  },
  {
   "cell_type": "code",
   "execution_count": 175,
   "id": "fbf56833",
   "metadata": {},
   "outputs": [
    {
     "data": {
      "text/plain": [
       "<Axes: title={'center': 'Histogram of distribution of MPG'}, ylabel='Frequency'>"
      ]
     },
     "execution_count": 175,
     "metadata": {},
     "output_type": "execute_result"
    },
    {
     "data": {
      "image/png": "[encoded data removed]",
      "text/plain": [
       "<Figure size 640x480 with 1 Axes>"
      ]
     },
     "metadata": {},
     "output_type": "display_data"
    }
   ],
   "source": [
    "# Data Analysis & Visualization\n",
    "# 1. Explore the distribution of Fuel efficiency of the cars\n",
    "# Remember to label both axis and put a title to the plot\n",
    "\n",
    "# Histogram plot\n",
    "\n",
    "var_dfCars['mpg'].plot(kind = 'hist' ,bins = 10, title = \"Histogram of distribution of MPG\")"
   ]
  },
  {
   "cell_type": "code",
   "execution_count": 176,
   "id": "c0507d82",
   "metadata": {},
   "outputs": [
    {
     "data": {
      "text/plain": [
       "<Axes: title={'center': 'Box Plot of distribution of MPG'}>"
      ]
     },
     "execution_count": 176,
     "metadata": {},
     "output_type": "execute_result"
    },
    {
     "data": {
      "image/png": "[encoded data removed]",
      "text/plain": [
       "<Figure size 640x480 with 1 Axes>"
      ]
     },
     "metadata": {},
     "output_type": "display_data"
    }
   ],
   "source": [
    "# Box plot\n",
    "\n",
    "var_dfCars['mpg'].plot(kind = 'box', title = \"Box Plot of distribution of MPG\")"
   ]
  },
  {
   "cell_type": "code",
   "execution_count": 177,
   "id": "5b4f9f7e",
   "metadata": {},
   "outputs": [
    {
     "data": {
      "text/html": [
       "<div>\n",
       "<style scoped>\n",
       "    .dataframe tbody tr th:only-of-type {\n",
       "        vertical-align: middle;\n",
       "    }\n",
       "\n",
       "    .dataframe tbody tr th {\n",
       "        vertical-align: top;\n",
       "    }\n",
       "\n",
       "    .dataframe thead th {\n",
       "        text-align: right;\n",
       "    }\n",
       "</style>\n",
       "<table border=\"1\" class=\"dataframe\">\n",
       "  <thead>\n",
       "    <tr style=\"text-align: right;\">\n",
       "      <th></th>\n",
       "      <th>mpg</th>\n",
       "    </tr>\n",
       "    <tr>\n",
       "      <th>model</th>\n",
       "      <th></th>\n",
       "    </tr>\n",
       "  </thead>\n",
       "  <tbody>\n",
       "    <tr>\n",
       "      <th>Toyota Corolla</th>\n",
       "      <td>33.9</td>\n",
       "    </tr>\n",
       "  </tbody>\n",
       "</table>\n",
       "</div>"
      ],
      "text/plain": [
       "                 mpg\n",
       "model               \n",
       "Toyota Corolla  33.9"
      ]
     },
     "execution_count": 177,
     "metadata": {},
     "output_type": "execute_result"
    }
   ],
   "source": [
    "# 2. Find the cars with the best and worst fuel efficiency\n",
    "\n",
    "# Best efficiency car\n",
    "\n",
    "var_dfCars[var_dfCars['mpg'] == var_dfCars['mpg'].max()][[\"mpg\"]]"
   ]
  },
  {
   "cell_type": "markdown",
   "id": "83cb6407",
   "metadata": {},
   "source": [
    "# Toyota Corolla has best efficiency"
   ]
  },
  {
   "cell_type": "code",
   "execution_count": 178,
   "id": "d43f6dec",
   "metadata": {},
   "outputs": [
    {
     "data": {
      "text/html": [
       "<div>\n",
       "<style scoped>\n",
       "    .dataframe tbody tr th:only-of-type {\n",
       "        vertical-align: middle;\n",
       "    }\n",
       "\n",
       "    .dataframe tbody tr th {\n",
       "        vertical-align: top;\n",
       "    }\n",
       "\n",
       "    .dataframe thead th {\n",
       "        text-align: right;\n",
       "    }\n",
       "</style>\n",
       "<table border=\"1\" class=\"dataframe\">\n",
       "  <thead>\n",
       "    <tr style=\"text-align: right;\">\n",
       "      <th></th>\n",
       "      <th>mpg</th>\n",
       "    </tr>\n",
       "    <tr>\n",
       "      <th>model</th>\n",
       "      <th></th>\n",
       "    </tr>\n",
       "  </thead>\n",
       "  <tbody>\n",
       "    <tr>\n",
       "      <th>Cadillac Fleetwood</th>\n",
       "      <td>10.4</td>\n",
       "    </tr>\n",
       "    <tr>\n",
       "      <th>Lincoln Continental</th>\n",
       "      <td>10.4</td>\n",
       "    </tr>\n",
       "  </tbody>\n",
       "</table>\n",
       "</div>"
      ],
      "text/plain": [
       "                      mpg\n",
       "model                    \n",
       "Cadillac Fleetwood   10.4\n",
       "Lincoln Continental  10.4"
      ]
     },
     "execution_count": 178,
     "metadata": {},
     "output_type": "execute_result"
    }
   ],
   "source": [
    "# Worst efficiency\n",
    "\n",
    "var_dfCars[var_dfCars['mpg'] == var_dfCars['mpg'].min()][[\"mpg\"]]"
   ]
  },
  {
   "cell_type": "markdown",
   "id": "d338dfe1",
   "metadata": {},
   "source": [
    "# Cadillac Fleetwood and Lincoln Continental have the worst efficiency"
   ]
  },
  {
   "cell_type": "code",
   "execution_count": 179,
   "id": "00a02fcc",
   "metadata": {},
   "outputs": [
    {
     "data": {
      "text/plain": [
       "am\n",
       "0    19\n",
       "1    13\n",
       "Name: count, dtype: int64"
      ]
     },
     "execution_count": 179,
     "metadata": {},
     "output_type": "execute_result"
    }
   ],
   "source": [
    "# 3. How many cars are manual vs automatic?\n",
    "\n",
    "var_dfCars['am'].value_counts()"
   ]
  },
  {
   "cell_type": "markdown",
   "id": "e48e15dc",
   "metadata": {},
   "source": [
    "# There are 13 manual and 19 automatic cars"
   ]
  },
  {
   "cell_type": "code",
   "execution_count": 180,
   "id": "e9271494",
   "metadata": {},
   "outputs": [
    {
     "data": {
      "text/html": [
       "<div>\n",
       "<style scoped>\n",
       "    .dataframe tbody tr th:only-of-type {\n",
       "        vertical-align: middle;\n",
       "    }\n",
       "\n",
       "    .dataframe tbody tr th {\n",
       "        vertical-align: top;\n",
       "    }\n",
       "\n",
       "    .dataframe thead th {\n",
       "        text-align: right;\n",
       "    }\n",
       "</style>\n",
       "<table border=\"1\" class=\"dataframe\">\n",
       "  <thead>\n",
       "    <tr style=\"text-align: right;\">\n",
       "      <th></th>\n",
       "      <th>hp</th>\n",
       "    </tr>\n",
       "    <tr>\n",
       "      <th>model</th>\n",
       "      <th></th>\n",
       "    </tr>\n",
       "  </thead>\n",
       "  <tbody>\n",
       "    <tr>\n",
       "      <th>Honda Civic</th>\n",
       "      <td>52</td>\n",
       "    </tr>\n",
       "  </tbody>\n",
       "</table>\n",
       "</div>"
      ],
      "text/plain": [
       "             hp\n",
       "model          \n",
       "Honda Civic  52"
      ]
     },
     "execution_count": 180,
     "metadata": {},
     "output_type": "execute_result"
    }
   ],
   "source": [
    "# 4. Find the car with the worst horsepower\n",
    "\n",
    "var_dfCars[var_dfCars['hp'] == var_dfCars['hp'].min()][[\"hp\"]]"
   ]
  },
  {
   "cell_type": "markdown",
   "id": "0d4abc0b",
   "metadata": {},
   "source": [
    "# Honda civic has the worst horsepower"
   ]
  },
  {
   "cell_type": "code",
   "execution_count": 181,
   "id": "be826c8a",
   "metadata": {},
   "outputs": [
    {
     "data": {
      "text/plain": [
       "count     32.000000\n",
       "mean     230.721875\n",
       "std      123.938694\n",
       "min       71.100000\n",
       "25%      120.825000\n",
       "50%      196.300000\n",
       "75%      326.000000\n",
       "max      472.000000\n",
       "Name: disp, dtype: float64"
      ]
     },
     "execution_count": 181,
     "metadata": {},
     "output_type": "execute_result"
    }
   ],
   "source": [
    "# 5. Find 5 number summary and draw the boxplot of displacement. \n",
    "\n",
    "# 5 number summary\n",
    "\n",
    "var_dfCars['disp'].describe()"
   ]
  },
  {
   "cell_type": "code",
   "execution_count": 182,
   "id": "f7f32862",
   "metadata": {},
   "outputs": [
    {
     "data": {
      "text/plain": [
       "<Axes: title={'center': 'Boxplot of Displacement'}>"
      ]
     },
     "execution_count": 182,
     "metadata": {},
     "output_type": "execute_result"
    },
    {
     "data": {
      "image/png": "[encoded data removed]",
      "text/plain": [
       "<Figure size 640x480 with 1 Axes>"
      ]
     },
     "metadata": {},
     "output_type": "display_data"
    }
   ],
   "source": [
    "# Box plot of displacement\n",
    "\n",
    "var_dfCars['disp'].plot(kind = 'box', title = 'Boxplot of Displacement')"
   ]
  },
  {
   "cell_type": "code",
   "execution_count": 183,
   "id": "f32eee45",
   "metadata": {},
   "outputs": [
    {
     "data": {
      "text/html": [
       "<div>\n",
       "<style scoped>\n",
       "    .dataframe tbody tr th:only-of-type {\n",
       "        vertical-align: middle;\n",
       "    }\n",
       "\n",
       "    .dataframe tbody tr th {\n",
       "        vertical-align: top;\n",
       "    }\n",
       "\n",
       "    .dataframe thead th {\n",
       "        text-align: right;\n",
       "    }\n",
       "</style>\n",
       "<table border=\"1\" class=\"dataframe\">\n",
       "  <thead>\n",
       "    <tr style=\"text-align: right;\">\n",
       "      <th></th>\n",
       "      <th>wt</th>\n",
       "      <th>gear</th>\n",
       "    </tr>\n",
       "    <tr>\n",
       "      <th>model</th>\n",
       "      <th></th>\n",
       "      <th></th>\n",
       "    </tr>\n",
       "  </thead>\n",
       "  <tbody>\n",
       "    <tr>\n",
       "      <th>Lincoln Continental</th>\n",
       "      <td>5.424</td>\n",
       "      <td>3</td>\n",
       "    </tr>\n",
       "  </tbody>\n",
       "</table>\n",
       "</div>"
      ],
      "text/plain": [
       "                        wt  gear\n",
       "model                           \n",
       "Lincoln Continental  5.424     3"
      ]
     },
     "execution_count": 183,
     "metadata": {},
     "output_type": "execute_result"
    }
   ],
   "source": [
    "# 6. Which is the heaviest car? How many gears does it have?\n",
    "\n",
    "var_dfCars[var_dfCars['wt'] == var_dfCars['wt'].max()][['wt','gear']]"
   ]
  },
  {
   "cell_type": "markdown",
   "id": "a40116d1",
   "metadata": {},
   "source": [
    "# Lincoln Continental is the heaviest car with 3 gears"
   ]
  },
  {
   "cell_type": "code",
   "execution_count": 184,
   "id": "4bce933a",
   "metadata": {},
   "outputs": [
    {
     "data": {
      "text/html": [
       "<div>\n",
       "<style scoped>\n",
       "    .dataframe tbody tr th:only-of-type {\n",
       "        vertical-align: middle;\n",
       "    }\n",
       "\n",
       "    .dataframe tbody tr th {\n",
       "        vertical-align: top;\n",
       "    }\n",
       "\n",
       "    .dataframe thead th {\n",
       "        text-align: right;\n",
       "    }\n",
       "</style>\n",
       "<table border=\"1\" class=\"dataframe\">\n",
       "  <thead>\n",
       "    <tr style=\"text-align: right;\">\n",
       "      <th></th>\n",
       "      <th>qsec</th>\n",
       "    </tr>\n",
       "    <tr>\n",
       "      <th>model</th>\n",
       "      <th></th>\n",
       "    </tr>\n",
       "  </thead>\n",
       "  <tbody>\n",
       "    <tr>\n",
       "      <th>Ford Pantera L</th>\n",
       "      <td>14.5</td>\n",
       "    </tr>\n",
       "  </tbody>\n",
       "</table>\n",
       "</div>"
      ],
      "text/plain": [
       "                qsec\n",
       "model               \n",
       "Ford Pantera L  14.5"
      ]
     },
     "execution_count": 184,
     "metadata": {},
     "output_type": "execute_result"
    }
   ],
   "source": [
    "# 7. Which is the car with the best qsec?\n",
    "\n",
    "var_dfCars[var_dfCars['qsec'] == var_dfCars['qsec'].min()][['qsec']]"
   ]
  },
  {
   "cell_type": "markdown",
   "id": "5360feca",
   "metadata": {},
   "source": [
    "# Qsec is related how to quickly a car can accelerate(measured in seconds), hence lower the qsec, the faster the acceleration\n",
    "# Ford Pantera L has the best qsec"
   ]
  },
  {
   "cell_type": "code",
   "execution_count": 185,
   "id": "5cda656d",
   "metadata": {},
   "outputs": [
    {
     "name": "stdout",
     "output_type": "stream",
     "text": [
      "am\n",
      "Automatic    17.147368\n",
      "Manual       24.392308\n",
      "Name: mpg, dtype: float64\n"
     ]
    }
   ],
   "source": [
    "# 8. What is average MPG for manual vs. automatic cars? \n",
    "\n",
    "# Converting numerical into categorical features\n",
    "\n",
    "var_dfCars['am'] = var_dfCars['am'].map({0:'Automatic',1:'Manual'})\n",
    "\n",
    "# Means using groupby\n",
    "\n",
    "print(var_dfCars.groupby('am')['mpg'].mean())"
   ]
  },
  {
   "cell_type": "markdown",
   "id": "b5e32d74",
   "metadata": {},
   "source": [
    "# Manual has an average MPG of 24.39230769230769 \n",
    "# Average has an average MPG of 17.147368421052633"
   ]
  },
  {
   "cell_type": "code",
   "execution_count": 186,
   "id": "51998e27",
   "metadata": {},
   "outputs": [
    {
     "name": "stdout",
     "output_type": "stream",
     "text": [
      "Fuel Efficiency Summary(mpg) for Manual vs Automatic:\n",
      "           count       mean       std   min    25%   50%   75%   max\n",
      "am                                                                  \n",
      "Automatic   19.0  17.147368  3.833966  10.4  14.95  17.3  19.2  24.4\n",
      "Manual      13.0  24.392308  6.166504  15.0  21.00  22.8  30.4  33.9\n"
     ]
    },
    {
     "data": {
      "image/png": "[encoded data removed]",
      "text/plain": [
       "<Figure size 640x480 with 1 Axes>"
      ]
     },
     "metadata": {},
     "output_type": "display_data"
    }
   ],
   "source": [
    "# 9. Draw Side by Side box plot to understand the difference in fuel efficience of Manual vs Automatic cars.  \n",
    "# Analyze and write about fuel efficiency in each group (manual vs. automatic).  \n",
    "\n",
    "\n",
    "# Plotting\n",
    "\n",
    "ax = var_dfCars.boxplot(column = 'mpg', by = 'am',grid = False)\n",
    "ax.get_figure().suptitle('Fuel efficiency : Automatic v/s Manual')\n",
    "\n",
    "\n",
    "# Statistical summary\n",
    "\n",
    "print(\"Fuel Efficiency Summary(mpg) for Manual vs Automatic:\")\n",
    "print(var_dfCars.groupby('am')['mpg'].describe())"
   ]
  },
  {
   "cell_type": "code",
   "execution_count": 187,
   "id": "09d256aa",
   "metadata": {},
   "outputs": [
    {
     "name": "stdout",
     "output_type": "stream",
     "text": [
      "Correlation between Fuel Efficiency and weight :-0.8676593765172281\n"
     ]
    }
   ],
   "source": [
    "# 10. What is the relationship between the weight of the car and MPG? \n",
    "# Create scatter plot\n",
    "# Remember to label both axis and put a title to the plot, write the units too\n",
    "\n",
    "# Correlation between the two columns\n",
    "\n",
    "print(f\"Correlation between Fuel Efficiency and weight :{var_dfCars['mpg'].corr(var_dfCars['wt'])}\")\n"
   ]
  },
  {
   "cell_type": "code",
   "execution_count": 188,
   "id": "8139424d",
   "metadata": {},
   "outputs": [
    {
     "data": {
      "text/plain": [
       "<Axes: title={'center': 'MPG vs Weight'}, xlabel='mpg', ylabel='wt'>"
      ]
     },
     "execution_count": 188,
     "metadata": {},
     "output_type": "execute_result"
    },
    {
     "data": {
      "image/png": "[encoded data removed]",
      "text/plain": [
       "<Figure size 640x480 with 1 Axes>"
      ]
     },
     "metadata": {},
     "output_type": "display_data"
    }
   ],
   "source": [
    "# Scatter plot\n",
    "\n",
    "var_dfCars.plot(kind = 'scatter', x ='mpg', y='wt',title = 'MPG vs Weight')"
   ]
  },
  {
   "cell_type": "code",
   "execution_count": 189,
   "id": "42451094",
   "metadata": {},
   "outputs": [
    {
     "data": {
      "text/plain": [
       "gear\n",
       "3    15\n",
       "4    12\n",
       "5     5\n",
       "Name: count, dtype: int64"
      ]
     },
     "execution_count": 189,
     "metadata": {},
     "output_type": "execute_result"
    }
   ],
   "source": [
    "# 11. Categorize the cars based on the number of gears in the cars. How many cars are there in each type?\n",
    "\n",
    "var_nGears = var_dfCars['gear'].value_counts()\n",
    "var_nGears\n"
   ]
  },
  {
   "cell_type": "markdown",
   "id": "d0760dbb",
   "metadata": {},
   "source": [
    "# There are 12 cars with 4 gears, 15 cars with 3 gears and 5 cars with 5 gears"
   ]
  },
  {
   "cell_type": "code",
   "execution_count": 190,
   "id": "2d9aa6d2",
   "metadata": {},
   "outputs": [
    {
     "name": "stdout",
     "output_type": "stream",
     "text": [
      "Correlation between MPG and Gears:0.4802847573388421\n"
     ]
    }
   ],
   "source": [
    "# 12. What is the relationship between fuel efficiency and the number of gears in the car? \n",
    "\n",
    "# Correlation between fuel efficiency and gears\n",
    "\n",
    "print(f\"Correlation between MPG and Gears:{var_dfCars['mpg'].corr(var_dfCars['gear'])}\")"
   ]
  },
  {
   "cell_type": "code",
   "execution_count": 191,
   "id": "f34e2275",
   "metadata": {},
   "outputs": [
    {
     "data": {
      "text/plain": [
       "<Axes: title={'center': 'Plot of fuel efficiency vs gears'}, xlabel='mpg', ylabel='gear'>"
      ]
     },
     "execution_count": 191,
     "metadata": {},
     "output_type": "execute_result"
    },
    {
     "data": {
      "image/png": "[encoded data removed]",
      "text/plain": [
       "<Figure size 640x480 with 1 Axes>"
      ]
     },
     "metadata": {},
     "output_type": "display_data"
    }
   ],
   "source": [
    "# Scatter plot\n",
    "\n",
    "var_dfCars.plot(kind = 'scatter', x = 'mpg',y = 'gear', title = 'Plot of fuel efficiency vs gears')"
   ]
  },
  {
   "cell_type": "code",
   "execution_count": 192,
   "id": "c1f2fffe",
   "metadata": {},
   "outputs": [
    {
     "name": "stdout",
     "output_type": "stream",
     "text": [
      "Correlation between Horse Power and Cylinders:0.8324474527218194\n"
     ]
    }
   ],
   "source": [
    "# 13. Explain the relationship between horse power and number of cylinders in the car.\n",
    "\n",
    "# Correlation between horse power and number of cylinders\n",
    "\n",
    "print(f\"Correlation between Horse Power and Cylinders:{var_dfCars['hp'].corr(var_dfCars['cyl'])}\")\n"
   ]
  },
  {
   "cell_type": "code",
   "execution_count": 193,
   "id": "71596342",
   "metadata": {},
   "outputs": [
    {
     "data": {
      "text/plain": [
       "<Axes: title={'center': 'Horse Power v/s Number of Cylinders'}, xlabel='hp', ylabel='cyl'>"
      ]
     },
     "execution_count": 193,
     "metadata": {},
     "output_type": "execute_result"
    },
    {
     "data": {
      "image/png": "[encoded data removed]",
      "text/plain": [
       "<Figure size 640x480 with 1 Axes>"
      ]
     },
     "metadata": {},
     "output_type": "display_data"
    }
   ],
   "source": [
    "# Scatter plot\n",
    "\n",
    "var_dfCars.plot(kind = 'scatter',x = 'hp',y = 'cyl', title  = 'Horse Power v/s Number of Cylinders')"
   ]
  },
  {
   "cell_type": "code",
   "execution_count": 194,
   "id": "2d08e10e",
   "metadata": {},
   "outputs": [
    {
     "name": "stdout",
     "output_type": "stream",
     "text": [
      "Correlation between displacement and Horse Power:0.7909485863698065\n"
     ]
    }
   ],
   "source": [
    "# 14. Explain the relationship between displacement and gross horse power.\n",
    "\n",
    "# Correlation\n",
    "\n",
    "print(f\"Correlation between displacement and Horse Power:{var_dfCars['disp'].corr(var_dfCars['hp'])}\")"
   ]
  },
  {
   "cell_type": "code",
   "execution_count": 195,
   "id": "313a6e57",
   "metadata": {},
   "outputs": [
    {
     "data": {
      "text/plain": [
       "<Axes: title={'center': 'Displacment v/s Horse Power'}, xlabel='disp', ylabel='hp'>"
      ]
     },
     "execution_count": 195,
     "metadata": {},
     "output_type": "execute_result"
    },
    {
     "data": {
      "image/png": "[encoded data removed]",
      "text/plain": [
       "<Figure size 640x480 with 1 Axes>"
      ]
     },
     "metadata": {},
     "output_type": "display_data"
    }
   ],
   "source": [
    "# Scatter plot\n",
    "\n",
    "var_dfCars.plot(kind = 'scatter', x = 'disp',y = 'hp', title  = 'Displacment v/s Horse Power')"
   ]
  },
  {
   "cell_type": "code",
   "execution_count": 196,
   "id": "43369e20",
   "metadata": {},
   "outputs": [
    {
     "data": {
      "text/html": [
       "<div>\n",
       "<style scoped>\n",
       "    .dataframe tbody tr th:only-of-type {\n",
       "        vertical-align: middle;\n",
       "    }\n",
       "\n",
       "    .dataframe tbody tr th {\n",
       "        vertical-align: top;\n",
       "    }\n",
       "\n",
       "    .dataframe thead th {\n",
       "        text-align: right;\n",
       "    }\n",
       "</style>\n",
       "<table border=\"1\" class=\"dataframe\">\n",
       "  <thead>\n",
       "    <tr style=\"text-align: right;\">\n",
       "      <th></th>\n",
       "      <th>mpg</th>\n",
       "      <th>cyl</th>\n",
       "      <th>disp</th>\n",
       "      <th>hp</th>\n",
       "      <th>drat</th>\n",
       "      <th>wt</th>\n",
       "      <th>qsec</th>\n",
       "      <th>vs</th>\n",
       "      <th>am</th>\n",
       "      <th>gear</th>\n",
       "      <th>carb</th>\n",
       "    </tr>\n",
       "    <tr>\n",
       "      <th>model</th>\n",
       "      <th></th>\n",
       "      <th></th>\n",
       "      <th></th>\n",
       "      <th></th>\n",
       "      <th></th>\n",
       "      <th></th>\n",
       "      <th></th>\n",
       "      <th></th>\n",
       "      <th></th>\n",
       "      <th></th>\n",
       "      <th></th>\n",
       "    </tr>\n",
       "  </thead>\n",
       "  <tbody>\n",
       "    <tr>\n",
       "      <th>Ferrari Dino</th>\n",
       "      <td>19.7</td>\n",
       "      <td>6</td>\n",
       "      <td>145.0</td>\n",
       "      <td>175</td>\n",
       "      <td>3.62</td>\n",
       "      <td>2.77</td>\n",
       "      <td>15.5</td>\n",
       "      <td>0</td>\n",
       "      <td>Manual</td>\n",
       "      <td>5</td>\n",
       "      <td>6</td>\n",
       "    </tr>\n",
       "  </tbody>\n",
       "</table>\n",
       "</div>"
      ],
      "text/plain": [
       "               mpg  cyl   disp   hp  drat    wt  qsec  vs      am  gear  carb\n",
       "model                                                                        \n",
       "Ferrari Dino  19.7    6  145.0  175  3.62  2.77  15.5   0  Manual     5     6"
      ]
     },
     "execution_count": 196,
     "metadata": {},
     "output_type": "execute_result"
    }
   ],
   "source": [
    "# 15. Which car would I pick if I am looking for high speed as well as good fuel efficiency?\n",
    "\n",
    "var_speedThreshold = var_dfCars['hp'].quantile(0.5)\n",
    "var_fuelThreshold = var_dfCars['mpg'].quantile(0.5)\n",
    "\n",
    "var_result = var_dfCars[(var_dfCars['mpg'] > var_fuelThreshold) & (var_dfCars['hp'] > var_speedThreshold)]\n",
    "var_result"
   ]
  },
  {
   "cell_type": "markdown",
   "id": "84a6e7cf",
   "metadata": {},
   "source": [
    "# Ferrari Dino is a good choice for a car with good speed and good fuel efficiency"
   ]
  },
  {
   "cell_type": "code",
   "execution_count": 197,
   "id": "30fefe0b",
   "metadata": {},
   "outputs": [
    {
     "data": {
      "text/html": [
       "<div>\n",
       "<style scoped>\n",
       "    .dataframe tbody tr th:only-of-type {\n",
       "        vertical-align: middle;\n",
       "    }\n",
       "\n",
       "    .dataframe tbody tr th {\n",
       "        vertical-align: top;\n",
       "    }\n",
       "\n",
       "    .dataframe thead th {\n",
       "        text-align: right;\n",
       "    }\n",
       "</style>\n",
       "<table border=\"1\" class=\"dataframe\">\n",
       "  <thead>\n",
       "    <tr style=\"text-align: right;\">\n",
       "      <th></th>\n",
       "      <th>Unnamed: 0</th>\n",
       "      <th>mfr</th>\n",
       "      <th>type</th>\n",
       "      <th>calories</th>\n",
       "      <th>protein</th>\n",
       "      <th>fat</th>\n",
       "      <th>sodium</th>\n",
       "      <th>fiber</th>\n",
       "      <th>carbo</th>\n",
       "      <th>sugars</th>\n",
       "      <th>potass</th>\n",
       "      <th>vitamins</th>\n",
       "      <th>shelf</th>\n",
       "      <th>weight</th>\n",
       "      <th>cups</th>\n",
       "      <th>rating</th>\n",
       "    </tr>\n",
       "    <tr>\n",
       "      <th>name</th>\n",
       "      <th></th>\n",
       "      <th></th>\n",
       "      <th></th>\n",
       "      <th></th>\n",
       "      <th></th>\n",
       "      <th></th>\n",
       "      <th></th>\n",
       "      <th></th>\n",
       "      <th></th>\n",
       "      <th></th>\n",
       "      <th></th>\n",
       "      <th></th>\n",
       "      <th></th>\n",
       "      <th></th>\n",
       "      <th></th>\n",
       "      <th></th>\n",
       "    </tr>\n",
       "  </thead>\n",
       "  <tbody>\n",
       "    <tr>\n",
       "      <th>100%_Natural_Bran</th>\n",
       "      <td>0</td>\n",
       "      <td>Q</td>\n",
       "      <td>C</td>\n",
       "      <td>120</td>\n",
       "      <td>3.0</td>\n",
       "      <td>5.0</td>\n",
       "      <td>15.0</td>\n",
       "      <td>2.00</td>\n",
       "      <td>8.0</td>\n",
       "      <td>8.0</td>\n",
       "      <td>135.000000</td>\n",
       "      <td>25.0</td>\n",
       "      <td>3</td>\n",
       "      <td>1.0</td>\n",
       "      <td>1.00</td>\n",
       "      <td>33.983679</td>\n",
       "    </tr>\n",
       "    <tr>\n",
       "      <th>All-Bran</th>\n",
       "      <td>1</td>\n",
       "      <td>K</td>\n",
       "      <td>C</td>\n",
       "      <td>70</td>\n",
       "      <td>4.0</td>\n",
       "      <td>1.0</td>\n",
       "      <td>260.0</td>\n",
       "      <td>1.75</td>\n",
       "      <td>7.0</td>\n",
       "      <td>5.0</td>\n",
       "      <td>90.000000</td>\n",
       "      <td>25.0</td>\n",
       "      <td>3</td>\n",
       "      <td>1.0</td>\n",
       "      <td>0.33</td>\n",
       "      <td>59.425505</td>\n",
       "    </tr>\n",
       "    <tr>\n",
       "      <th>All-Bran_with_Extra_Fiber</th>\n",
       "      <td>2</td>\n",
       "      <td>K</td>\n",
       "      <td>C</td>\n",
       "      <td>50</td>\n",
       "      <td>4.0</td>\n",
       "      <td>0.0</td>\n",
       "      <td>140.0</td>\n",
       "      <td>1.75</td>\n",
       "      <td>8.0</td>\n",
       "      <td>0.0</td>\n",
       "      <td>90.000000</td>\n",
       "      <td>25.0</td>\n",
       "      <td>3</td>\n",
       "      <td>1.0</td>\n",
       "      <td>0.50</td>\n",
       "      <td>93.704912</td>\n",
       "    </tr>\n",
       "    <tr>\n",
       "      <th>Almond_Delight</th>\n",
       "      <td>3</td>\n",
       "      <td>R</td>\n",
       "      <td>C</td>\n",
       "      <td>110</td>\n",
       "      <td>2.0</td>\n",
       "      <td>2.0</td>\n",
       "      <td>200.0</td>\n",
       "      <td>1.00</td>\n",
       "      <td>14.0</td>\n",
       "      <td>8.0</td>\n",
       "      <td>96.216216</td>\n",
       "      <td>25.0</td>\n",
       "      <td>3</td>\n",
       "      <td>1.0</td>\n",
       "      <td>0.75</td>\n",
       "      <td>34.384843</td>\n",
       "    </tr>\n",
       "    <tr>\n",
       "      <th>Apple_Cinnamon_Cheerios</th>\n",
       "      <td>4</td>\n",
       "      <td>G</td>\n",
       "      <td>C</td>\n",
       "      <td>110</td>\n",
       "      <td>2.0</td>\n",
       "      <td>2.0</td>\n",
       "      <td>180.0</td>\n",
       "      <td>1.50</td>\n",
       "      <td>10.5</td>\n",
       "      <td>10.0</td>\n",
       "      <td>70.000000</td>\n",
       "      <td>25.0</td>\n",
       "      <td>1</td>\n",
       "      <td>1.0</td>\n",
       "      <td>0.75</td>\n",
       "      <td>29.509541</td>\n",
       "    </tr>\n",
       "  </tbody>\n",
       "</table>\n",
       "</div>"
      ],
      "text/plain": [
       "                           Unnamed: 0 mfr type  calories  protein  fat  \\\n",
       "name                                                                     \n",
       "100%_Natural_Bran                   0   Q    C       120      3.0  5.0   \n",
       "All-Bran                            1   K    C        70      4.0  1.0   \n",
       "All-Bran_with_Extra_Fiber           2   K    C        50      4.0  0.0   \n",
       "Almond_Delight                      3   R    C       110      2.0  2.0   \n",
       "Apple_Cinnamon_Cheerios             4   G    C       110      2.0  2.0   \n",
       "\n",
       "                           sodium  fiber  carbo  sugars      potass  vitamins  \\\n",
       "name                                                                            \n",
       "100%_Natural_Bran            15.0   2.00    8.0     8.0  135.000000      25.0   \n",
       "All-Bran                    260.0   1.75    7.0     5.0   90.000000      25.0   \n",
       "All-Bran_with_Extra_Fiber   140.0   1.75    8.0     0.0   90.000000      25.0   \n",
       "Almond_Delight              200.0   1.00   14.0     8.0   96.216216      25.0   \n",
       "Apple_Cinnamon_Cheerios     180.0   1.50   10.5    10.0   70.000000      25.0   \n",
       "\n",
       "                           shelf  weight  cups     rating  \n",
       "name                                                       \n",
       "100%_Natural_Bran              3     1.0  1.00  33.983679  \n",
       "All-Bran                       3     1.0  0.33  59.425505  \n",
       "All-Bran_with_Extra_Fiber      3     1.0  0.50  93.704912  \n",
       "Almond_Delight                 3     1.0  0.75  34.384843  \n",
       "Apple_Cinnamon_Cheerios        1     1.0  0.75  29.509541  "
      ]
     },
     "execution_count": 197,
     "metadata": {},
     "output_type": "execute_result"
    }
   ],
   "source": [
    "# Question 2\n",
    "# For the CEREALS dataset, answer the specified questions with summarization and effective visuals.\n",
    "\n",
    "var_dfCereals = pd.read_csv(\"Cleaned_Cereals.csv\",index_col = 1)\n",
    "var_dfCereals.head()"
   ]
  },
  {
   "cell_type": "code",
   "execution_count": 198,
   "id": "5b4aff39",
   "metadata": {},
   "outputs": [
    {
     "name": "stdout",
     "output_type": "stream",
     "text": [
      "<class 'pandas.core.frame.DataFrame'>\n",
      "Index: 76 entries, 100%_Natural_Bran to Wheaties_Honey_Gold\n",
      "Data columns (total 16 columns):\n",
      " #   Column      Non-Null Count  Dtype  \n",
      "---  ------      --------------  -----  \n",
      " 0   Unnamed: 0  76 non-null     int64  \n",
      " 1   mfr         76 non-null     object \n",
      " 2   type        76 non-null     object \n",
      " 3   calories    76 non-null     int64  \n",
      " 4   protein     76 non-null     float64\n",
      " 5   fat         76 non-null     float64\n",
      " 6   sodium      76 non-null     float64\n",
      " 7   fiber       76 non-null     float64\n",
      " 8   carbo       76 non-null     float64\n",
      " 9   sugars      76 non-null     float64\n",
      " 10  potass      76 non-null     float64\n",
      " 11  vitamins    76 non-null     float64\n",
      " 12  shelf       76 non-null     int64  \n",
      " 13  weight      76 non-null     float64\n",
      " 14  cups        76 non-null     float64\n",
      " 15  rating      76 non-null     float64\n",
      "dtypes: float64(11), int64(3), object(2)\n",
      "memory usage: 10.1+ KB\n"
     ]
    }
   ],
   "source": [
    "var_dfCereals.info()"
   ]
  },
  {
   "cell_type": "code",
   "execution_count": 199,
   "id": "437e30f7",
   "metadata": {},
   "outputs": [
    {
     "data": {
      "text/html": [
       "<div>\n",
       "<style scoped>\n",
       "    .dataframe tbody tr th:only-of-type {\n",
       "        vertical-align: middle;\n",
       "    }\n",
       "\n",
       "    .dataframe tbody tr th {\n",
       "        vertical-align: top;\n",
       "    }\n",
       "\n",
       "    .dataframe thead th {\n",
       "        text-align: right;\n",
       "    }\n",
       "</style>\n",
       "<table border=\"1\" class=\"dataframe\">\n",
       "  <thead>\n",
       "    <tr style=\"text-align: right;\">\n",
       "      <th></th>\n",
       "      <th>Unnamed: 0</th>\n",
       "      <th>calories</th>\n",
       "      <th>protein</th>\n",
       "      <th>fat</th>\n",
       "      <th>sodium</th>\n",
       "      <th>fiber</th>\n",
       "      <th>carbo</th>\n",
       "      <th>sugars</th>\n",
       "      <th>potass</th>\n",
       "      <th>vitamins</th>\n",
       "      <th>shelf</th>\n",
       "      <th>weight</th>\n",
       "      <th>cups</th>\n",
       "      <th>rating</th>\n",
       "    </tr>\n",
       "  </thead>\n",
       "  <tbody>\n",
       "    <tr>\n",
       "      <th>count</th>\n",
       "      <td>76.000000</td>\n",
       "      <td>76.000000</td>\n",
       "      <td>76.000000</td>\n",
       "      <td>76.000000</td>\n",
       "      <td>76.000000</td>\n",
       "      <td>76.000000</td>\n",
       "      <td>76.000000</td>\n",
       "      <td>76.000000</td>\n",
       "      <td>76.000000</td>\n",
       "      <td>76.0</td>\n",
       "      <td>76.000000</td>\n",
       "      <td>76.000000</td>\n",
       "      <td>76.000000</td>\n",
       "      <td>76.000000</td>\n",
       "    </tr>\n",
       "    <tr>\n",
       "      <th>mean</th>\n",
       "      <td>37.500000</td>\n",
       "      <td>107.368421</td>\n",
       "      <td>2.401316</td>\n",
       "      <td>1.013158</td>\n",
       "      <td>181.381579</td>\n",
       "      <td>1.792105</td>\n",
       "      <td>14.933333</td>\n",
       "      <td>7.040000</td>\n",
       "      <td>85.821479</td>\n",
       "      <td>25.0</td>\n",
       "      <td>2.197368</td>\n",
       "      <td>1.030000</td>\n",
       "      <td>0.827500</td>\n",
       "      <td>42.327057</td>\n",
       "    </tr>\n",
       "    <tr>\n",
       "      <th>std</th>\n",
       "      <td>22.083176</td>\n",
       "      <td>19.139378</td>\n",
       "      <td>0.875670</td>\n",
       "      <td>1.013159</td>\n",
       "      <td>60.186370</td>\n",
       "      <td>1.520220</td>\n",
       "      <td>3.737498</td>\n",
       "      <td>4.377031</td>\n",
       "      <td>48.062504</td>\n",
       "      <td>0.0</td>\n",
       "      <td>0.832982</td>\n",
       "      <td>0.151438</td>\n",
       "      <td>0.227204</td>\n",
       "      <td>13.820602</td>\n",
       "    </tr>\n",
       "    <tr>\n",
       "      <th>min</th>\n",
       "      <td>0.000000</td>\n",
       "      <td>50.000000</td>\n",
       "      <td>1.000000</td>\n",
       "      <td>0.000000</td>\n",
       "      <td>15.000000</td>\n",
       "      <td>0.000000</td>\n",
       "      <td>7.000000</td>\n",
       "      <td>0.000000</td>\n",
       "      <td>15.000000</td>\n",
       "      <td>25.0</td>\n",
       "      <td>1.000000</td>\n",
       "      <td>0.500000</td>\n",
       "      <td>0.250000</td>\n",
       "      <td>18.042851</td>\n",
       "    </tr>\n",
       "    <tr>\n",
       "      <th>25%</th>\n",
       "      <td>18.750000</td>\n",
       "      <td>100.000000</td>\n",
       "      <td>2.000000</td>\n",
       "      <td>0.000000</td>\n",
       "      <td>147.500000</td>\n",
       "      <td>0.750000</td>\n",
       "      <td>12.000000</td>\n",
       "      <td>3.000000</td>\n",
       "      <td>43.750000</td>\n",
       "      <td>25.0</td>\n",
       "      <td>1.000000</td>\n",
       "      <td>1.000000</td>\n",
       "      <td>0.670000</td>\n",
       "      <td>32.932466</td>\n",
       "    </tr>\n",
       "    <tr>\n",
       "      <th>50%</th>\n",
       "      <td>37.500000</td>\n",
       "      <td>110.000000</td>\n",
       "      <td>2.250000</td>\n",
       "      <td>1.000000</td>\n",
       "      <td>180.000000</td>\n",
       "      <td>1.625000</td>\n",
       "      <td>14.966667</td>\n",
       "      <td>7.000000</td>\n",
       "      <td>90.000000</td>\n",
       "      <td>25.0</td>\n",
       "      <td>2.000000</td>\n",
       "      <td>1.000000</td>\n",
       "      <td>0.750000</td>\n",
       "      <td>40.253086</td>\n",
       "    </tr>\n",
       "    <tr>\n",
       "      <th>75%</th>\n",
       "      <td>56.250000</td>\n",
       "      <td>110.000000</td>\n",
       "      <td>3.000000</td>\n",
       "      <td>2.000000</td>\n",
       "      <td>212.500000</td>\n",
       "      <td>3.000000</td>\n",
       "      <td>17.000000</td>\n",
       "      <td>11.000000</td>\n",
       "      <td>110.000000</td>\n",
       "      <td>25.0</td>\n",
       "      <td>3.000000</td>\n",
       "      <td>1.000000</td>\n",
       "      <td>1.000000</td>\n",
       "      <td>50.780847</td>\n",
       "    </tr>\n",
       "    <tr>\n",
       "      <th>max</th>\n",
       "      <td>75.000000</td>\n",
       "      <td>160.000000</td>\n",
       "      <td>4.000000</td>\n",
       "      <td>5.000000</td>\n",
       "      <td>320.000000</td>\n",
       "      <td>6.000000</td>\n",
       "      <td>23.000000</td>\n",
       "      <td>15.000000</td>\n",
       "      <td>230.000000</td>\n",
       "      <td>25.0</td>\n",
       "      <td>3.000000</td>\n",
       "      <td>1.500000</td>\n",
       "      <td>1.500000</td>\n",
       "      <td>93.704912</td>\n",
       "    </tr>\n",
       "  </tbody>\n",
       "</table>\n",
       "</div>"
      ],
      "text/plain": [
       "       Unnamed: 0    calories    protein        fat      sodium      fiber  \\\n",
       "count   76.000000   76.000000  76.000000  76.000000   76.000000  76.000000   \n",
       "mean    37.500000  107.368421   2.401316   1.013158  181.381579   1.792105   \n",
       "std     22.083176   19.139378   0.875670   1.013159   60.186370   1.520220   \n",
       "min      0.000000   50.000000   1.000000   0.000000   15.000000   0.000000   \n",
       "25%     18.750000  100.000000   2.000000   0.000000  147.500000   0.750000   \n",
       "50%     37.500000  110.000000   2.250000   1.000000  180.000000   1.625000   \n",
       "75%     56.250000  110.000000   3.000000   2.000000  212.500000   3.000000   \n",
       "max     75.000000  160.000000   4.000000   5.000000  320.000000   6.000000   \n",
       "\n",
       "           carbo     sugars      potass  vitamins      shelf     weight  \\\n",
       "count  76.000000  76.000000   76.000000      76.0  76.000000  76.000000   \n",
       "mean   14.933333   7.040000   85.821479      25.0   2.197368   1.030000   \n",
       "std     3.737498   4.377031   48.062504       0.0   0.832982   0.151438   \n",
       "min     7.000000   0.000000   15.000000      25.0   1.000000   0.500000   \n",
       "25%    12.000000   3.000000   43.750000      25.0   1.000000   1.000000   \n",
       "50%    14.966667   7.000000   90.000000      25.0   2.000000   1.000000   \n",
       "75%    17.000000  11.000000  110.000000      25.0   3.000000   1.000000   \n",
       "max    23.000000  15.000000  230.000000      25.0   3.000000   1.500000   \n",
       "\n",
       "            cups     rating  \n",
       "count  76.000000  76.000000  \n",
       "mean    0.827500  42.327057  \n",
       "std     0.227204  13.820602  \n",
       "min     0.250000  18.042851  \n",
       "25%     0.670000  32.932466  \n",
       "50%     0.750000  40.253086  \n",
       "75%     1.000000  50.780847  \n",
       "max     1.500000  93.704912  "
      ]
     },
     "execution_count": 199,
     "metadata": {},
     "output_type": "execute_result"
    }
   ],
   "source": [
    "var_dfCereals.describe()"
   ]
  },
  {
   "cell_type": "code",
   "execution_count": 200,
   "id": "9a41d9a3",
   "metadata": {},
   "outputs": [
    {
     "data": {
      "text/plain": [
       "7"
      ]
     },
     "execution_count": 200,
     "metadata": {},
     "output_type": "execute_result"
    }
   ],
   "source": [
    "# 1. How many cereals(unique brands) are there in the dataset?\n",
    "\n",
    "var_dfCereals['mfr'].nunique()\n"
   ]
  },
  {
   "cell_type": "markdown",
   "id": "c57cb054",
   "metadata": {},
   "source": [
    "# There are 7 unique cereal brands"
   ]
  },
  {
   "cell_type": "code",
   "execution_count": 201,
   "id": "fa06f35e",
   "metadata": {},
   "outputs": [
    {
     "data": {
      "text/plain": [
       "mfr\n",
       "K    23\n",
       "G    22\n",
       "P     9\n",
       "R     8\n",
       "Q     8\n",
       "N     5\n",
       "A     1\n",
       "Name: count, dtype: int64"
      ]
     },
     "execution_count": 201,
     "metadata": {},
     "output_type": "execute_result"
    }
   ],
   "source": [
    "# 2. How many cereals are listed per manufacturer of the cereal?\n",
    "\n",
    "var_dfCereals['mfr'].value_counts()\n"
   ]
  },
  {
   "cell_type": "markdown",
   "id": "5764b7a0",
   "metadata": {},
   "source": [
    "# Kelloggs(K) has 23 cereals\n",
    "# General Mills(G) has 22 cereals\n",
    "# Post(P)  has 9 cereals\n",
    "# Quaker Oats(Q) has 8 cereals\n",
    "# Ralston Purina(R)  has 8 cereals\n",
    "# Nabisco(N)  has 5 cereals\n",
    "# American Home Food Products(A)  has  1 cereal"
   ]
  },
  {
   "cell_type": "code",
   "execution_count": 202,
   "id": "21a107cf",
   "metadata": {},
   "outputs": [
    {
     "data": {
      "text/plain": [
       "type\n",
       "C    73\n",
       "H     3\n",
       "Name: count, dtype: int64"
      ]
     },
     "execution_count": 202,
     "metadata": {},
     "output_type": "execute_result"
    }
   ],
   "source": [
    "# 3. How many hot vs cold cereals?\n",
    "\n",
    "var_dfCereals['type'].value_counts()"
   ]
  },
  {
   "cell_type": "markdown",
   "id": "5cb5ebc2",
   "metadata": {},
   "source": [
    "# There are 73 Cold cereals and 3 Hot cereals"
   ]
  },
  {
   "cell_type": "code",
   "execution_count": 203,
   "id": "4e5e220c",
   "metadata": {},
   "outputs": [
    {
     "data": {
      "text/html": [
       "<div>\n",
       "<style scoped>\n",
       "    .dataframe tbody tr th:only-of-type {\n",
       "        vertical-align: middle;\n",
       "    }\n",
       "\n",
       "    .dataframe tbody tr th {\n",
       "        vertical-align: top;\n",
       "    }\n",
       "\n",
       "    .dataframe thead th {\n",
       "        text-align: right;\n",
       "    }\n",
       "</style>\n",
       "<table border=\"1\" class=\"dataframe\">\n",
       "  <thead>\n",
       "    <tr style=\"text-align: right;\">\n",
       "      <th></th>\n",
       "      <th>rating</th>\n",
       "    </tr>\n",
       "    <tr>\n",
       "      <th>name</th>\n",
       "      <th></th>\n",
       "    </tr>\n",
       "  </thead>\n",
       "  <tbody>\n",
       "    <tr>\n",
       "      <th>All-Bran_with_Extra_Fiber</th>\n",
       "      <td>93.704912</td>\n",
       "    </tr>\n",
       "  </tbody>\n",
       "</table>\n",
       "</div>"
      ],
      "text/plain": [
       "                              rating\n",
       "name                                \n",
       "All-Bran_with_Extra_Fiber  93.704912"
      ]
     },
     "execution_count": 203,
     "metadata": {},
     "output_type": "execute_result"
    }
   ],
   "source": [
    "# 4. Which is the best and worst cereal?\n",
    "\n",
    "# Best rated cereal\n",
    "\n",
    "var_dfCereals[var_dfCereals['rating'] == var_dfCereals['rating'].max()][['rating']]\n"
   ]
  },
  {
   "cell_type": "code",
   "execution_count": 204,
   "id": "cbd24e6d",
   "metadata": {},
   "outputs": [
    {
     "data": {
      "text/html": [
       "<div>\n",
       "<style scoped>\n",
       "    .dataframe tbody tr th:only-of-type {\n",
       "        vertical-align: middle;\n",
       "    }\n",
       "\n",
       "    .dataframe tbody tr th {\n",
       "        vertical-align: top;\n",
       "    }\n",
       "\n",
       "    .dataframe thead th {\n",
       "        text-align: right;\n",
       "    }\n",
       "</style>\n",
       "<table border=\"1\" class=\"dataframe\">\n",
       "  <thead>\n",
       "    <tr style=\"text-align: right;\">\n",
       "      <th></th>\n",
       "      <th>rating</th>\n",
       "    </tr>\n",
       "    <tr>\n",
       "      <th>name</th>\n",
       "      <th></th>\n",
       "    </tr>\n",
       "  </thead>\n",
       "  <tbody>\n",
       "    <tr>\n",
       "      <th>Cap'n'Crunch</th>\n",
       "      <td>18.042851</td>\n",
       "    </tr>\n",
       "  </tbody>\n",
       "</table>\n",
       "</div>"
      ],
      "text/plain": [
       "                 rating\n",
       "name                   \n",
       "Cap'n'Crunch  18.042851"
      ]
     },
     "execution_count": 204,
     "metadata": {},
     "output_type": "execute_result"
    }
   ],
   "source": [
    "# Worst rated cereal\n",
    "\n",
    "var_dfCereals[var_dfCereals['rating'] == var_dfCereals['rating'].min()][['rating']]"
   ]
  },
  {
   "cell_type": "markdown",
   "id": "9c273c31",
   "metadata": {},
   "source": [
    "# All bran with extra fiber is the best rated cereal, while Cap'N'Crunch is the worst rated cereal"
   ]
  },
  {
   "cell_type": "code",
   "execution_count": 205,
   "id": "295f5cf5",
   "metadata": {},
   "outputs": [
    {
     "name": "stdout",
     "output_type": "stream",
     "text": [
      "Hot rating    56.737708\n",
      "dtype: float64\n",
      "Cold rating    41.734838\n",
      "dtype: float64\n"
     ]
    }
   ],
   "source": [
    "# 5. Compare the rating for hot vs cold cereals. Which do people prefer?\n",
    "\n",
    "#Calculating average rating \n",
    "\n",
    "var_HotAvg = var_dfCereals[var_dfCereals['type'] == 'H'][['rating']].mean()\n",
    "\n",
    "var_ColdAvg = var_dfCereals[var_dfCereals['type'] == 'C'][['rating']].mean()\n",
    "\n",
    "print(f\"Hot {var_HotAvg}\")\n",
    "print(f\"Cold {var_ColdAvg}\")"
   ]
  },
  {
   "cell_type": "markdown",
   "id": "0bf67f60",
   "metadata": {},
   "source": [
    "# On Average, People have rated Hot cereal as better than Cold Cereals"
   ]
  },
  {
   "cell_type": "code",
   "execution_count": 206,
   "id": "62b88157",
   "metadata": {},
   "outputs": [
    {
     "data": {
      "text/html": [
       "<div>\n",
       "<style scoped>\n",
       "    .dataframe tbody tr th:only-of-type {\n",
       "        vertical-align: middle;\n",
       "    }\n",
       "\n",
       "    .dataframe tbody tr th {\n",
       "        vertical-align: top;\n",
       "    }\n",
       "\n",
       "    .dataframe thead th {\n",
       "        text-align: right;\n",
       "    }\n",
       "</style>\n",
       "<table border=\"1\" class=\"dataframe\">\n",
       "  <thead>\n",
       "    <tr style=\"text-align: right;\">\n",
       "      <th></th>\n",
       "      <th>fiber</th>\n",
       "    </tr>\n",
       "    <tr>\n",
       "      <th>name</th>\n",
       "      <th></th>\n",
       "    </tr>\n",
       "  </thead>\n",
       "  <tbody>\n",
       "    <tr>\n",
       "      <th>Post_Nat._Raisin_Bran</th>\n",
       "      <td>6.0</td>\n",
       "    </tr>\n",
       "  </tbody>\n",
       "</table>\n",
       "</div>"
      ],
      "text/plain": [
       "                       fiber\n",
       "name                        \n",
       "Post_Nat._Raisin_Bran    6.0"
      ]
     },
     "execution_count": 206,
     "metadata": {},
     "output_type": "execute_result"
    }
   ],
   "source": [
    "# 6. Which cereals have the highest fiber and lowest sugar?\n",
    "\n",
    "# Highest fiber\n",
    "\n",
    "var_dfCereals[var_dfCereals['fiber'] == var_dfCereals['fiber'].max()][['fiber']]"
   ]
  },
  {
   "cell_type": "code",
   "execution_count": 207,
   "id": "01bddc13",
   "metadata": {},
   "outputs": [
    {
     "data": {
      "text/html": [
       "<div>\n",
       "<style scoped>\n",
       "    .dataframe tbody tr th:only-of-type {\n",
       "        vertical-align: middle;\n",
       "    }\n",
       "\n",
       "    .dataframe tbody tr th {\n",
       "        vertical-align: top;\n",
       "    }\n",
       "\n",
       "    .dataframe thead th {\n",
       "        text-align: right;\n",
       "    }\n",
       "</style>\n",
       "<table border=\"1\" class=\"dataframe\">\n",
       "  <thead>\n",
       "    <tr style=\"text-align: right;\">\n",
       "      <th></th>\n",
       "      <th>sugars</th>\n",
       "    </tr>\n",
       "    <tr>\n",
       "      <th>name</th>\n",
       "      <th></th>\n",
       "    </tr>\n",
       "  </thead>\n",
       "  <tbody>\n",
       "    <tr>\n",
       "      <th>Golden_Crisp</th>\n",
       "      <td>15.0</td>\n",
       "    </tr>\n",
       "    <tr>\n",
       "      <th>Smacks</th>\n",
       "      <td>15.0</td>\n",
       "    </tr>\n",
       "  </tbody>\n",
       "</table>\n",
       "</div>"
      ],
      "text/plain": [
       "              sugars\n",
       "name                \n",
       "Golden_Crisp    15.0\n",
       "Smacks          15.0"
      ]
     },
     "execution_count": 207,
     "metadata": {},
     "output_type": "execute_result"
    }
   ],
   "source": [
    "# Lowest Sugar\n",
    "\n",
    "var_dfCereals[var_dfCereals['sugars'] == var_dfCereals['sugars'].max()][['sugars']]"
   ]
  },
  {
   "cell_type": "code",
   "execution_count": 208,
   "id": "8e2a1286",
   "metadata": {},
   "outputs": [
    {
     "data": {
      "text/html": [
       "<div>\n",
       "<style scoped>\n",
       "    .dataframe tbody tr th:only-of-type {\n",
       "        vertical-align: middle;\n",
       "    }\n",
       "\n",
       "    .dataframe tbody tr th {\n",
       "        vertical-align: top;\n",
       "    }\n",
       "\n",
       "    .dataframe thead th {\n",
       "        text-align: right;\n",
       "    }\n",
       "</style>\n",
       "<table border=\"1\" class=\"dataframe\">\n",
       "  <thead>\n",
       "    <tr style=\"text-align: right;\">\n",
       "      <th></th>\n",
       "      <th>protein</th>\n",
       "    </tr>\n",
       "    <tr>\n",
       "      <th>name</th>\n",
       "      <th></th>\n",
       "    </tr>\n",
       "  </thead>\n",
       "  <tbody>\n",
       "    <tr>\n",
       "      <th>All-Bran</th>\n",
       "      <td>4.0</td>\n",
       "    </tr>\n",
       "    <tr>\n",
       "      <th>All-Bran_with_Extra_Fiber</th>\n",
       "      <td>4.0</td>\n",
       "    </tr>\n",
       "    <tr>\n",
       "      <th>Life</th>\n",
       "      <td>4.0</td>\n",
       "    </tr>\n",
       "    <tr>\n",
       "      <th>Maypo</th>\n",
       "      <td>4.0</td>\n",
       "    </tr>\n",
       "    <tr>\n",
       "      <th>Muesli_Raisins,_Dates,_&amp;amp;_Almonds</th>\n",
       "      <td>4.0</td>\n",
       "    </tr>\n",
       "    <tr>\n",
       "      <th>Muesli_Raisins,_Peaches,_&amp;amp;_Pecans</th>\n",
       "      <td>4.0</td>\n",
       "    </tr>\n",
       "    <tr>\n",
       "      <th>Quaker_Oat_Squares</th>\n",
       "      <td>4.0</td>\n",
       "    </tr>\n",
       "  </tbody>\n",
       "</table>\n",
       "</div>"
      ],
      "text/plain": [
       "                                       protein\n",
       "name                                          \n",
       "All-Bran                                   4.0\n",
       "All-Bran_with_Extra_Fiber                  4.0\n",
       "Life                                       4.0\n",
       "Maypo                                      4.0\n",
       "Muesli_Raisins,_Dates,_&amp;_Almonds       4.0\n",
       "Muesli_Raisins,_Peaches,_&amp;_Pecans      4.0\n",
       "Quaker_Oat_Squares                         4.0"
      ]
     },
     "execution_count": 208,
     "metadata": {},
     "output_type": "execute_result"
    }
   ],
   "source": [
    "# 7. Which Cereals that have more than 3 grams of protein?\n",
    "\n",
    "var_dfCereals[var_dfCereals['protein'] > 3][['protein']]"
   ]
  },
  {
   "cell_type": "code",
   "execution_count": 209,
   "id": "4fc40506",
   "metadata": {},
   "outputs": [
    {
     "data": {
      "text/plain": [
       "<Axes: title={'center': 'Shelf data'}, xlabel='Shelf', ylabel='No. of Cereals'>"
      ]
     },
     "execution_count": 209,
     "metadata": {},
     "output_type": "execute_result"
    },
    {
     "data": {
      "image/png": "[encoded data removed]",
      "text/plain": [
       "<Figure size 640x480 with 1 Axes>"
      ]
     },
     "metadata": {},
     "output_type": "display_data"
    }
   ],
   "source": [
    "# 8. Tabulate and visualize Cereals by display Shelf\n",
    "\n",
    "# Getting a new Series with the shelf numbers and their respective counts\n",
    "\n",
    "var_nShelf = var_dfCereals['shelf'].value_counts().sort_index()\n",
    "\n",
    "# Plotting a bar graph with that info\n",
    "\n",
    "var_nShelf.plot(kind = 'bar', xlabel = 'Shelf', ylabel = 'No. of Cereals', title = 'Shelf data', rot = 0)"
   ]
  },
  {
   "cell_type": "code",
   "execution_count": 210,
   "id": "5e8679dc",
   "metadata": {},
   "outputs": [
    {
     "data": {
      "text/plain": [
       "<Axes: title={'center': \"Average sugar content in each brand's cereals\"}, xlabel='Brands', ylabel='Average Sugar content'>"
      ]
     },
     "execution_count": 210,
     "metadata": {},
     "output_type": "execute_result"
    },
    {
     "data": {
      "image/png": "[encoded data removed]",
      "text/plain": [
       "<Figure size 640x480 with 1 Axes>"
      ]
     },
     "metadata": {},
     "output_type": "display_data"
    }
   ],
   "source": [
    "# 9. How does the sugar content vary across different brands?\n",
    "\n",
    "# Finding average sugar content in cereals of each brand \n",
    "\n",
    "var_BrandSugarAvg = var_dfCereals.groupby('mfr')['sugars'].mean()\n",
    "\n",
    "# Plotting the mean sugar content vs Brand\n",
    "\n",
    "var_BrandSugarAvg.plot(kind = 'bar', xlabel = 'Brands', ylabel = 'Average Sugar content', title = 'Average sugar content in each brand\\'s cereals', rot = 0)"
   ]
  },
  {
   "cell_type": "code",
   "execution_count": 211,
   "id": "d4a7d120",
   "metadata": {},
   "outputs": [
    {
     "data": {
      "text/plain": [
       "mfr\n",
       "A    100.000000\n",
       "G    111.363636\n",
       "K    108.695652\n",
       "N     90.000000\n",
       "P    108.888889\n",
       "Q     95.000000\n",
       "R    115.000000\n",
       "Name: calories, dtype: float64"
      ]
     },
     "execution_count": 211,
     "metadata": {},
     "output_type": "execute_result"
    }
   ],
   "source": [
    "# 10. What is the average calories in cereals per manufacturer?\n",
    "\n",
    "# Average calories grouped by the manufacturer\n",
    "\n",
    "var_dfCereals.groupby('mfr')['calories'].mean()\n"
   ]
  },
  {
   "cell_type": "code",
   "execution_count": 212,
   "id": "ab4c7f96",
   "metadata": {},
   "outputs": [
    {
     "data": {
      "text/plain": [
       "calories    107.368421\n",
       "protein       2.401316\n",
       "fat           1.013158\n",
       "sodium      181.381579\n",
       "fiber         1.792105\n",
       "carbo        14.933333\n",
       "sugars        7.040000\n",
       "potass       85.821479\n",
       "vitamins     25.000000\n",
       "dtype: float64"
      ]
     },
     "execution_count": 212,
     "metadata": {},
     "output_type": "execute_result"
    }
   ],
   "source": [
    "# 11. What is the average nutritional content (calories, sugars, protein, fiber\n",
    "# , etc.) across allcereals?\n",
    "\n",
    "var_dfCereals.iloc[:,3:12].mean()"
   ]
  },
  {
   "cell_type": "code",
   "execution_count": 213,
   "id": "ec5e3133",
   "metadata": {},
   "outputs": [
    {
     "name": "stdout",
     "output_type": "stream",
     "text": [
      "0.574182136970384\n"
     ]
    }
   ],
   "source": [
    "# 12. What is the relationship between sugar and calories?\n",
    "\n",
    "# Correlation between Sugar and Calories\n",
    "\n",
    "print(var_dfCereals['sugars'].corr(var_dfCereals['calories']))"
   ]
  },
  {
   "cell_type": "code",
   "execution_count": 214,
   "id": "d84d3510",
   "metadata": {},
   "outputs": [
    {
     "data": {
      "text/plain": [
       "<Axes: title={'center': 'Sugar v/s Calories'}, xlabel='sugars', ylabel='calories'>"
      ]
     },
     "execution_count": 214,
     "metadata": {},
     "output_type": "execute_result"
    },
    {
     "data": {
      "image/png": "[encoded data removed]",
      "text/plain": [
       "<Figure size 640x480 with 1 Axes>"
      ]
     },
     "metadata": {},
     "output_type": "display_data"
    }
   ],
   "source": [
    "# Plot between Sugars and Calories\n",
    "\n",
    "var_dfCereals.plot(kind = 'scatter', x = 'sugars', y = 'calories', title = 'Sugar v/s Calories')"
   ]
  },
  {
   "cell_type": "code",
   "execution_count": 215,
   "id": "1ae6a7d5",
   "metadata": {},
   "outputs": [
    {
     "data": {
      "text/plain": [
       "<Axes: title={'center': 'Mean sugar content for High and Low rated cereals'}, xlabel='Ratings', ylabel='Sugar Content'>"
      ]
     },
     "execution_count": 215,
     "metadata": {},
     "output_type": "execute_result"
    },
    {
     "data": {
      "image/png": "[encoded data removed]",
      "text/plain": [
       "<Figure size 640x480 with 1 Axes>"
      ]
     },
     "metadata": {},
     "output_type": "display_data"
    }
   ],
   "source": [
    "# 13. How does the sugar content compare in cereals with high vs. low ratings?\n",
    "\n",
    "# High and low ratings\n",
    "\n",
    "var_HighRatings = var_dfCereals['rating'].quantile(0.75)\n",
    "\n",
    "var_LowRatings = var_dfCereals['rating'].quantile(0.75)\n",
    "\n",
    "# Plot  \n",
    "\n",
    "var_RatingSugarAvg = var_dfCereals[(var_dfCereals['rating'] > var_HighRatings) | (var_dfCereals['rating'] < var_LowRatings)]\n",
    "\n",
    "var_RatingSugarAvg = var_RatingSugarAvg.groupby(var_RatingSugarAvg['rating'] > var_HighRatings)['sugars'].mean()\n",
    "\n",
    "var_RatingSugarAvg.index = ['High Ratings','Low Ratings']\n",
    "\n",
    "var_RatingSugarAvg.plot(kind = 'bar',xlabel = 'Ratings', ylabel = 'Sugar Content', rot = 0, title = 'Mean sugar content for High and Low rated cereals')"
   ]
  },
  {
   "cell_type": "code",
   "execution_count": 216,
   "id": "03bd06af",
   "metadata": {},
   "outputs": [
    {
     "name": "stdout",
     "output_type": "stream",
     "text": [
      "Mean value of the \"Healthy\" cereals:56.521204499999996\n"
     ]
    }
   ],
   "source": [
    "# 14. Do cereals marketed as \"healthy\" (e.g., high fiber, low sugar) tend to have higher ratings?\n",
    "\n",
    "# Thresholds\n",
    "\n",
    "var_FiberThreshold = var_dfCereals['fiber'].quantile(0.5)\n",
    "\n",
    "var_SugarThreshold = var_dfCereals['sugars'].quantile(0.5)\n",
    "\n",
    "# Mean value of ratings\n",
    "\n",
    "print(f\"Mean value of the \\\"Healthy\\\" cereals:{var_dfCereals[(var_dfCereals['fiber'] > var_FiberThreshold) & (var_dfCereals['sugars'] < var_SugarThreshold)]['rating'].mean()}\")"
   ]
  },
  {
   "cell_type": "code",
   "execution_count": 217,
   "id": "4fd3c928",
   "metadata": {},
   "outputs": [
    {
     "name": "stdout",
     "output_type": "stream",
     "text": [
      "Correlation between Rating and Sugars : -0.7741948178286928\n"
     ]
    }
   ],
   "source": [
    "# 15. Is there a relationship between rating and display shelf?\n",
    "\n",
    "# Correlation\n",
    "\n",
    "print(f\"Correlation between Rating and Sugars : {var_dfCereals['rating'].corr(var_dfCereals['sugars'])}\")"
   ]
  },
  {
   "cell_type": "code",
   "execution_count": 218,
   "id": "afb34cda",
   "metadata": {},
   "outputs": [
    {
     "data": {
      "text/plain": [
       "<Axes: title={'center': 'Rating v/s Sugar'}, xlabel='rating', ylabel='sugars'>"
      ]
     },
     "execution_count": 218,
     "metadata": {},
     "output_type": "execute_result"
    },
    {
     "data": {
      "image/png": "[encoded data removed]",
      "text/plain": [
       "<Figure size 640x480 with 1 Axes>"
      ]
     },
     "metadata": {},
     "output_type": "display_data"
    }
   ],
   "source": [
    "# Plotting\n",
    "\n",
    "var_dfCereals.plot(kind = 'scatter', x = 'rating', y = 'sugars', title = 'Rating v/s Sugar')"
   ]
  }
 ],
 "metadata": {
  "kernelspec": {
   "display_name": ".VENV",
   "language": "python",
   "name": "python3"
  },
  "language_info": {
   "codemirror_mode": {
    "name": "ipython",
    "version": 3
   },
   "file_extension": ".py",
   "mimetype": "text/x-python",
   "name": "python",
   "nbconvert_exporter": "python",
   "pygments_lexer": "ipython3",
   "version": "3.12.5"
  }
 },
 "nbformat": 4,
 "nbformat_minor": 5
}
