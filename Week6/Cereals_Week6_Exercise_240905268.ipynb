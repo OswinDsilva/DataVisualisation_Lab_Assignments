{
 "cells": [
  {
   "cell_type": "code",
   "execution_count": 1,
   "id": "7ff104c6",
   "metadata": {},
   "outputs": [],
   "source": [
    "# Data visualization\n",
    "# BTech Computer Science Stream, January 2025\n",
    "# Week 6 Data Visualization: context, effective visuals and storytelling\n",
    "# Name: Oswin Vion Dsilva, 240905268,Section CE, Date: 20/01/2024"
   ]
  },
  {
   "cell_type": "code",
   "execution_count": 2,
   "id": "4d0b09d1",
   "metadata": {},
   "outputs": [],
   "source": [
    "import pandas as pd\n",
    "import numpy as np"
   ]
  },
  {
   "cell_type": "code",
   "execution_count": 3,
   "id": "30fefe0b",
   "metadata": {},
   "outputs": [
    {
     "data": {
      "text/html": [
       "<div>\n",
       "<style scoped>\n",
       "    .dataframe tbody tr th:only-of-type {\n",
       "        vertical-align: middle;\n",
       "    }\n",
       "\n",
       "    .dataframe tbody tr th {\n",
       "        vertical-align: top;\n",
       "    }\n",
       "\n",
       "    .dataframe thead th {\n",
       "        text-align: right;\n",
       "    }\n",
       "</style>\n",
       "<table border=\"1\" class=\"dataframe\">\n",
       "  <thead>\n",
       "    <tr style=\"text-align: right;\">\n",
       "      <th></th>\n",
       "      <th>Unnamed: 0</th>\n",
       "      <th>mfr</th>\n",
       "      <th>type</th>\n",
       "      <th>calories</th>\n",
       "      <th>protein</th>\n",
       "      <th>fat</th>\n",
       "      <th>sodium</th>\n",
       "      <th>fiber</th>\n",
       "      <th>carbo</th>\n",
       "      <th>sugars</th>\n",
       "      <th>potass</th>\n",
       "      <th>vitamins</th>\n",
       "      <th>shelf</th>\n",
       "      <th>weight</th>\n",
       "      <th>cups</th>\n",
       "      <th>rating</th>\n",
       "    </tr>\n",
       "    <tr>\n",
       "      <th>name</th>\n",
       "      <th></th>\n",
       "      <th></th>\n",
       "      <th></th>\n",
       "      <th></th>\n",
       "      <th></th>\n",
       "      <th></th>\n",
       "      <th></th>\n",
       "      <th></th>\n",
       "      <th></th>\n",
       "      <th></th>\n",
       "      <th></th>\n",
       "      <th></th>\n",
       "      <th></th>\n",
       "      <th></th>\n",
       "      <th></th>\n",
       "      <th></th>\n",
       "    </tr>\n",
       "  </thead>\n",
       "  <tbody>\n",
       "    <tr>\n",
       "      <th>100%_Natural_Bran</th>\n",
       "      <td>0</td>\n",
       "      <td>Q</td>\n",
       "      <td>C</td>\n",
       "      <td>120</td>\n",
       "      <td>3.0</td>\n",
       "      <td>5.0</td>\n",
       "      <td>15.0</td>\n",
       "      <td>2.00</td>\n",
       "      <td>8.0</td>\n",
       "      <td>8.0</td>\n",
       "      <td>135.000000</td>\n",
       "      <td>25.0</td>\n",
       "      <td>3</td>\n",
       "      <td>1.0</td>\n",
       "      <td>1.00</td>\n",
       "      <td>33.983679</td>\n",
       "    </tr>\n",
       "    <tr>\n",
       "      <th>All-Bran</th>\n",
       "      <td>1</td>\n",
       "      <td>K</td>\n",
       "      <td>C</td>\n",
       "      <td>70</td>\n",
       "      <td>4.0</td>\n",
       "      <td>1.0</td>\n",
       "      <td>260.0</td>\n",
       "      <td>1.75</td>\n",
       "      <td>7.0</td>\n",
       "      <td>5.0</td>\n",
       "      <td>90.000000</td>\n",
       "      <td>25.0</td>\n",
       "      <td>3</td>\n",
       "      <td>1.0</td>\n",
       "      <td>0.33</td>\n",
       "      <td>59.425505</td>\n",
       "    </tr>\n",
       "    <tr>\n",
       "      <th>All-Bran_with_Extra_Fiber</th>\n",
       "      <td>2</td>\n",
       "      <td>K</td>\n",
       "      <td>C</td>\n",
       "      <td>50</td>\n",
       "      <td>4.0</td>\n",
       "      <td>0.0</td>\n",
       "      <td>140.0</td>\n",
       "      <td>1.75</td>\n",
       "      <td>8.0</td>\n",
       "      <td>0.0</td>\n",
       "      <td>90.000000</td>\n",
       "      <td>25.0</td>\n",
       "      <td>3</td>\n",
       "      <td>1.0</td>\n",
       "      <td>0.50</td>\n",
       "      <td>93.704912</td>\n",
       "    </tr>\n",
       "    <tr>\n",
       "      <th>Almond_Delight</th>\n",
       "      <td>3</td>\n",
       "      <td>R</td>\n",
       "      <td>C</td>\n",
       "      <td>110</td>\n",
       "      <td>2.0</td>\n",
       "      <td>2.0</td>\n",
       "      <td>200.0</td>\n",
       "      <td>1.00</td>\n",
       "      <td>14.0</td>\n",
       "      <td>8.0</td>\n",
       "      <td>96.216216</td>\n",
       "      <td>25.0</td>\n",
       "      <td>3</td>\n",
       "      <td>1.0</td>\n",
       "      <td>0.75</td>\n",
       "      <td>34.384843</td>\n",
       "    </tr>\n",
       "    <tr>\n",
       "      <th>Apple_Cinnamon_Cheerios</th>\n",
       "      <td>4</td>\n",
       "      <td>G</td>\n",
       "      <td>C</td>\n",
       "      <td>110</td>\n",
       "      <td>2.0</td>\n",
       "      <td>2.0</td>\n",
       "      <td>180.0</td>\n",
       "      <td>1.50</td>\n",
       "      <td>10.5</td>\n",
       "      <td>10.0</td>\n",
       "      <td>70.000000</td>\n",
       "      <td>25.0</td>\n",
       "      <td>1</td>\n",
       "      <td>1.0</td>\n",
       "      <td>0.75</td>\n",
       "      <td>29.509541</td>\n",
       "    </tr>\n",
       "  </tbody>\n",
       "</table>\n",
       "</div>"
      ],
      "text/plain": [
       "                           Unnamed: 0 mfr type  calories  protein  fat  \\\n",
       "name                                                                     \n",
       "100%_Natural_Bran                   0   Q    C       120      3.0  5.0   \n",
       "All-Bran                            1   K    C        70      4.0  1.0   \n",
       "All-Bran_with_Extra_Fiber           2   K    C        50      4.0  0.0   \n",
       "Almond_Delight                      3   R    C       110      2.0  2.0   \n",
       "Apple_Cinnamon_Cheerios             4   G    C       110      2.0  2.0   \n",
       "\n",
       "                           sodium  fiber  carbo  sugars      potass  vitamins  \\\n",
       "name                                                                            \n",
       "100%_Natural_Bran            15.0   2.00    8.0     8.0  135.000000      25.0   \n",
       "All-Bran                    260.0   1.75    7.0     5.0   90.000000      25.0   \n",
       "All-Bran_with_Extra_Fiber   140.0   1.75    8.0     0.0   90.000000      25.0   \n",
       "Almond_Delight              200.0   1.00   14.0     8.0   96.216216      25.0   \n",
       "Apple_Cinnamon_Cheerios     180.0   1.50   10.5    10.0   70.000000      25.0   \n",
       "\n",
       "                           shelf  weight  cups     rating  \n",
       "name                                                       \n",
       "100%_Natural_Bran              3     1.0  1.00  33.983679  \n",
       "All-Bran                       3     1.0  0.33  59.425505  \n",
       "All-Bran_with_Extra_Fiber      3     1.0  0.50  93.704912  \n",
       "Almond_Delight                 3     1.0  0.75  34.384843  \n",
       "Apple_Cinnamon_Cheerios        1     1.0  0.75  29.509541  "
      ]
     },
     "execution_count": 3,
     "metadata": {},
     "output_type": "execute_result"
    }
   ],
   "source": [
    "# Question 2\n",
    "# For the CEREALS dataset, answer the specified questions with summarization and effective visuals.\n",
    "\n",
    "var_dfCereals = pd.read_csv(\"Cleaned_Cereals.csv\",index_col = 1)\n",
    "var_dfCereals.head()"
   ]
  },
  {
   "cell_type": "code",
   "execution_count": 4,
   "id": "5b4aff39",
   "metadata": {},
   "outputs": [
    {
     "name": "stdout",
     "output_type": "stream",
     "text": [
      "<class 'pandas.core.frame.DataFrame'>\n",
      "Index: 76 entries, 100%_Natural_Bran to Wheaties_Honey_Gold\n",
      "Data columns (total 16 columns):\n",
      " #   Column      Non-Null Count  Dtype  \n",
      "---  ------      --------------  -----  \n",
      " 0   Unnamed: 0  76 non-null     int64  \n",
      " 1   mfr         76 non-null     object \n",
      " 2   type        76 non-null     object \n",
      " 3   calories    76 non-null     int64  \n",
      " 4   protein     76 non-null     float64\n",
      " 5   fat         76 non-null     float64\n",
      " 6   sodium      76 non-null     float64\n",
      " 7   fiber       76 non-null     float64\n",
      " 8   carbo       76 non-null     float64\n",
      " 9   sugars      76 non-null     float64\n",
      " 10  potass      76 non-null     float64\n",
      " 11  vitamins    76 non-null     float64\n",
      " 12  shelf       76 non-null     int64  \n",
      " 13  weight      76 non-null     float64\n",
      " 14  cups        76 non-null     float64\n",
      " 15  rating      76 non-null     float64\n",
      "dtypes: float64(11), int64(3), object(2)\n",
      "memory usage: 10.1+ KB\n"
     ]
    }
   ],
   "source": [
    "var_dfCereals.info()"
   ]
  },
  {
   "cell_type": "code",
   "execution_count": 5,
   "id": "437e30f7",
   "metadata": {},
   "outputs": [
    {
     "data": {
      "text/html": [
       "<div>\n",
       "<style scoped>\n",
       "    .dataframe tbody tr th:only-of-type {\n",
       "        vertical-align: middle;\n",
       "    }\n",
       "\n",
       "    .dataframe tbody tr th {\n",
       "        vertical-align: top;\n",
       "    }\n",
       "\n",
       "    .dataframe thead th {\n",
       "        text-align: right;\n",
       "    }\n",
       "</style>\n",
       "<table border=\"1\" class=\"dataframe\">\n",
       "  <thead>\n",
       "    <tr style=\"text-align: right;\">\n",
       "      <th></th>\n",
       "      <th>Unnamed: 0</th>\n",
       "      <th>calories</th>\n",
       "      <th>protein</th>\n",
       "      <th>fat</th>\n",
       "      <th>sodium</th>\n",
       "      <th>fiber</th>\n",
       "      <th>carbo</th>\n",
       "      <th>sugars</th>\n",
       "      <th>potass</th>\n",
       "      <th>vitamins</th>\n",
       "      <th>shelf</th>\n",
       "      <th>weight</th>\n",
       "      <th>cups</th>\n",
       "      <th>rating</th>\n",
       "    </tr>\n",
       "  </thead>\n",
       "  <tbody>\n",
       "    <tr>\n",
       "      <th>count</th>\n",
       "      <td>76.000000</td>\n",
       "      <td>76.000000</td>\n",
       "      <td>76.000000</td>\n",
       "      <td>76.000000</td>\n",
       "      <td>76.000000</td>\n",
       "      <td>76.000000</td>\n",
       "      <td>76.000000</td>\n",
       "      <td>76.000000</td>\n",
       "      <td>76.000000</td>\n",
       "      <td>76.0</td>\n",
       "      <td>76.000000</td>\n",
       "      <td>76.000000</td>\n",
       "      <td>76.000000</td>\n",
       "      <td>76.000000</td>\n",
       "    </tr>\n",
       "    <tr>\n",
       "      <th>mean</th>\n",
       "      <td>37.500000</td>\n",
       "      <td>107.368421</td>\n",
       "      <td>2.401316</td>\n",
       "      <td>1.013158</td>\n",
       "      <td>181.381579</td>\n",
       "      <td>1.792105</td>\n",
       "      <td>14.933333</td>\n",
       "      <td>7.040000</td>\n",
       "      <td>85.821479</td>\n",
       "      <td>25.0</td>\n",
       "      <td>2.197368</td>\n",
       "      <td>1.030000</td>\n",
       "      <td>0.827500</td>\n",
       "      <td>42.327057</td>\n",
       "    </tr>\n",
       "    <tr>\n",
       "      <th>std</th>\n",
       "      <td>22.083176</td>\n",
       "      <td>19.139378</td>\n",
       "      <td>0.875670</td>\n",
       "      <td>1.013159</td>\n",
       "      <td>60.186370</td>\n",
       "      <td>1.520220</td>\n",
       "      <td>3.737498</td>\n",
       "      <td>4.377031</td>\n",
       "      <td>48.062504</td>\n",
       "      <td>0.0</td>\n",
       "      <td>0.832982</td>\n",
       "      <td>0.151438</td>\n",
       "      <td>0.227204</td>\n",
       "      <td>13.820602</td>\n",
       "    </tr>\n",
       "    <tr>\n",
       "      <th>min</th>\n",
       "      <td>0.000000</td>\n",
       "      <td>50.000000</td>\n",
       "      <td>1.000000</td>\n",
       "      <td>0.000000</td>\n",
       "      <td>15.000000</td>\n",
       "      <td>0.000000</td>\n",
       "      <td>7.000000</td>\n",
       "      <td>0.000000</td>\n",
       "      <td>15.000000</td>\n",
       "      <td>25.0</td>\n",
       "      <td>1.000000</td>\n",
       "      <td>0.500000</td>\n",
       "      <td>0.250000</td>\n",
       "      <td>18.042851</td>\n",
       "    </tr>\n",
       "    <tr>\n",
       "      <th>25%</th>\n",
       "      <td>18.750000</td>\n",
       "      <td>100.000000</td>\n",
       "      <td>2.000000</td>\n",
       "      <td>0.000000</td>\n",
       "      <td>147.500000</td>\n",
       "      <td>0.750000</td>\n",
       "      <td>12.000000</td>\n",
       "      <td>3.000000</td>\n",
       "      <td>43.750000</td>\n",
       "      <td>25.0</td>\n",
       "      <td>1.000000</td>\n",
       "      <td>1.000000</td>\n",
       "      <td>0.670000</td>\n",
       "      <td>32.932466</td>\n",
       "    </tr>\n",
       "    <tr>\n",
       "      <th>50%</th>\n",
       "      <td>37.500000</td>\n",
       "      <td>110.000000</td>\n",
       "      <td>2.250000</td>\n",
       "      <td>1.000000</td>\n",
       "      <td>180.000000</td>\n",
       "      <td>1.625000</td>\n",
       "      <td>14.966667</td>\n",
       "      <td>7.000000</td>\n",
       "      <td>90.000000</td>\n",
       "      <td>25.0</td>\n",
       "      <td>2.000000</td>\n",
       "      <td>1.000000</td>\n",
       "      <td>0.750000</td>\n",
       "      <td>40.253086</td>\n",
       "    </tr>\n",
       "    <tr>\n",
       "      <th>75%</th>\n",
       "      <td>56.250000</td>\n",
       "      <td>110.000000</td>\n",
       "      <td>3.000000</td>\n",
       "      <td>2.000000</td>\n",
       "      <td>212.500000</td>\n",
       "      <td>3.000000</td>\n",
       "      <td>17.000000</td>\n",
       "      <td>11.000000</td>\n",
       "      <td>110.000000</td>\n",
       "      <td>25.0</td>\n",
       "      <td>3.000000</td>\n",
       "      <td>1.000000</td>\n",
       "      <td>1.000000</td>\n",
       "      <td>50.780847</td>\n",
       "    </tr>\n",
       "    <tr>\n",
       "      <th>max</th>\n",
       "      <td>75.000000</td>\n",
       "      <td>160.000000</td>\n",
       "      <td>4.000000</td>\n",
       "      <td>5.000000</td>\n",
       "      <td>320.000000</td>\n",
       "      <td>6.000000</td>\n",
       "      <td>23.000000</td>\n",
       "      <td>15.000000</td>\n",
       "      <td>230.000000</td>\n",
       "      <td>25.0</td>\n",
       "      <td>3.000000</td>\n",
       "      <td>1.500000</td>\n",
       "      <td>1.500000</td>\n",
       "      <td>93.704912</td>\n",
       "    </tr>\n",
       "  </tbody>\n",
       "</table>\n",
       "</div>"
      ],
      "text/plain": [
       "       Unnamed: 0    calories    protein        fat      sodium      fiber  \\\n",
       "count   76.000000   76.000000  76.000000  76.000000   76.000000  76.000000   \n",
       "mean    37.500000  107.368421   2.401316   1.013158  181.381579   1.792105   \n",
       "std     22.083176   19.139378   0.875670   1.013159   60.186370   1.520220   \n",
       "min      0.000000   50.000000   1.000000   0.000000   15.000000   0.000000   \n",
       "25%     18.750000  100.000000   2.000000   0.000000  147.500000   0.750000   \n",
       "50%     37.500000  110.000000   2.250000   1.000000  180.000000   1.625000   \n",
       "75%     56.250000  110.000000   3.000000   2.000000  212.500000   3.000000   \n",
       "max     75.000000  160.000000   4.000000   5.000000  320.000000   6.000000   \n",
       "\n",
       "           carbo     sugars      potass  vitamins      shelf     weight  \\\n",
       "count  76.000000  76.000000   76.000000      76.0  76.000000  76.000000   \n",
       "mean   14.933333   7.040000   85.821479      25.0   2.197368   1.030000   \n",
       "std     3.737498   4.377031   48.062504       0.0   0.832982   0.151438   \n",
       "min     7.000000   0.000000   15.000000      25.0   1.000000   0.500000   \n",
       "25%    12.000000   3.000000   43.750000      25.0   1.000000   1.000000   \n",
       "50%    14.966667   7.000000   90.000000      25.0   2.000000   1.000000   \n",
       "75%    17.000000  11.000000  110.000000      25.0   3.000000   1.000000   \n",
       "max    23.000000  15.000000  230.000000      25.0   3.000000   1.500000   \n",
       "\n",
       "            cups     rating  \n",
       "count  76.000000  76.000000  \n",
       "mean    0.827500  42.327057  \n",
       "std     0.227204  13.820602  \n",
       "min     0.250000  18.042851  \n",
       "25%     0.670000  32.932466  \n",
       "50%     0.750000  40.253086  \n",
       "75%     1.000000  50.780847  \n",
       "max     1.500000  93.704912  "
      ]
     },
     "execution_count": 5,
     "metadata": {},
     "output_type": "execute_result"
    }
   ],
   "source": [
    "var_dfCereals.describe()"
   ]
  },
  {
   "cell_type": "code",
   "execution_count": 6,
   "id": "9a41d9a3",
   "metadata": {},
   "outputs": [
    {
     "data": {
      "text/plain": [
       "7"
      ]
     },
     "execution_count": 6,
     "metadata": {},
     "output_type": "execute_result"
    }
   ],
   "source": [
    "# 1. How many cereals(unique brands) are there in the dataset?\n",
    "\n",
    "var_dfCereals['mfr'].nunique()\n"
   ]
  },
  {
   "cell_type": "markdown",
   "id": "c57cb054",
   "metadata": {},
   "source": [
    "# There are 7 unique cereal brands"
   ]
  },
  {
   "cell_type": "code",
   "execution_count": 7,
   "id": "fa06f35e",
   "metadata": {},
   "outputs": [
    {
     "data": {
      "text/plain": [
       "mfr\n",
       "K    23\n",
       "G    22\n",
       "P     9\n",
       "R     8\n",
       "Q     8\n",
       "N     5\n",
       "A     1\n",
       "Name: count, dtype: int64"
      ]
     },
     "execution_count": 7,
     "metadata": {},
     "output_type": "execute_result"
    }
   ],
   "source": [
    "# 2. How many cereals are listed per manufacturer of the cereal?\n",
    "\n",
    "var_dfCereals['mfr'].value_counts()\n"
   ]
  },
  {
   "cell_type": "markdown",
   "id": "5764b7a0",
   "metadata": {},
   "source": [
    "# Kelloggs(K) has 23 cereals\n",
    "# General Mills(G) has 22 cereals\n",
    "# Post(P)  has 9 cereals\n",
    "# Quaker Oats(Q) has 8 cereals\n",
    "# Ralston Purina(R)  has 8 cereals\n",
    "# Nabisco(N)  has 5 cereals\n",
    "# American Home Food Products(A)  has  1 cereal"
   ]
  },
  {
   "cell_type": "code",
   "execution_count": 8,
   "id": "21a107cf",
   "metadata": {},
   "outputs": [
    {
     "data": {
      "text/plain": [
       "type\n",
       "C    73\n",
       "H     3\n",
       "Name: count, dtype: int64"
      ]
     },
     "execution_count": 8,
     "metadata": {},
     "output_type": "execute_result"
    }
   ],
   "source": [
    "# 3. How many hot vs cold cereals?\n",
    "\n",
    "var_dfCereals['type'].value_counts()"
   ]
  },
  {
   "cell_type": "markdown",
   "id": "5cb5ebc2",
   "metadata": {},
   "source": [
    "# There are 73 Cold cereals and 3 Hot cereals"
   ]
  },
  {
   "cell_type": "code",
   "execution_count": 9,
   "id": "4e5e220c",
   "metadata": {},
   "outputs": [
    {
     "data": {
      "text/html": [
       "<div>\n",
       "<style scoped>\n",
       "    .dataframe tbody tr th:only-of-type {\n",
       "        vertical-align: middle;\n",
       "    }\n",
       "\n",
       "    .dataframe tbody tr th {\n",
       "        vertical-align: top;\n",
       "    }\n",
       "\n",
       "    .dataframe thead th {\n",
       "        text-align: right;\n",
       "    }\n",
       "</style>\n",
       "<table border=\"1\" class=\"dataframe\">\n",
       "  <thead>\n",
       "    <tr style=\"text-align: right;\">\n",
       "      <th></th>\n",
       "      <th>rating</th>\n",
       "    </tr>\n",
       "    <tr>\n",
       "      <th>name</th>\n",
       "      <th></th>\n",
       "    </tr>\n",
       "  </thead>\n",
       "  <tbody>\n",
       "    <tr>\n",
       "      <th>All-Bran_with_Extra_Fiber</th>\n",
       "      <td>93.704912</td>\n",
       "    </tr>\n",
       "  </tbody>\n",
       "</table>\n",
       "</div>"
      ],
      "text/plain": [
       "                              rating\n",
       "name                                \n",
       "All-Bran_with_Extra_Fiber  93.704912"
      ]
     },
     "execution_count": 9,
     "metadata": {},
     "output_type": "execute_result"
    }
   ],
   "source": [
    "# 4. Which is the best and worst cereal?\n",
    "\n",
    "# Best rated cereal\n",
    "\n",
    "var_dfCereals[var_dfCereals['rating'] == var_dfCereals['rating'].max()][['rating']]\n"
   ]
  },
  {
   "cell_type": "code",
   "execution_count": 10,
   "id": "cbd24e6d",
   "metadata": {},
   "outputs": [
    {
     "data": {
      "text/html": [
       "<div>\n",
       "<style scoped>\n",
       "    .dataframe tbody tr th:only-of-type {\n",
       "        vertical-align: middle;\n",
       "    }\n",
       "\n",
       "    .dataframe tbody tr th {\n",
       "        vertical-align: top;\n",
       "    }\n",
       "\n",
       "    .dataframe thead th {\n",
       "        text-align: right;\n",
       "    }\n",
       "</style>\n",
       "<table border=\"1\" class=\"dataframe\">\n",
       "  <thead>\n",
       "    <tr style=\"text-align: right;\">\n",
       "      <th></th>\n",
       "      <th>rating</th>\n",
       "    </tr>\n",
       "    <tr>\n",
       "      <th>name</th>\n",
       "      <th></th>\n",
       "    </tr>\n",
       "  </thead>\n",
       "  <tbody>\n",
       "    <tr>\n",
       "      <th>Cap'n'Crunch</th>\n",
       "      <td>18.042851</td>\n",
       "    </tr>\n",
       "  </tbody>\n",
       "</table>\n",
       "</div>"
      ],
      "text/plain": [
       "                 rating\n",
       "name                   \n",
       "Cap'n'Crunch  18.042851"
      ]
     },
     "execution_count": 10,
     "metadata": {},
     "output_type": "execute_result"
    }
   ],
   "source": [
    "# Worst rated cereal\n",
    "\n",
    "var_dfCereals[var_dfCereals['rating'] == var_dfCereals['rating'].min()][['rating']]"
   ]
  },
  {
   "cell_type": "markdown",
   "id": "9c273c31",
   "metadata": {},
   "source": [
    "# All bran with extra fiber is the best rated cereal, while Cap'N'Crunch is the worst rated cereal"
   ]
  },
  {
   "cell_type": "code",
   "execution_count": 11,
   "id": "295f5cf5",
   "metadata": {},
   "outputs": [
    {
     "name": "stdout",
     "output_type": "stream",
     "text": [
      "Hot rating    56.737708\n",
      "dtype: float64\n",
      "Cold rating    41.734838\n",
      "dtype: float64\n"
     ]
    }
   ],
   "source": [
    "# 5. Compare the rating for hot vs cold cereals. Which do people prefer?\n",
    "\n",
    "#Calculating average rating \n",
    "\n",
    "var_HotAvg = var_dfCereals[var_dfCereals['type'] == 'H'][['rating']].mean()\n",
    "\n",
    "var_ColdAvg = var_dfCereals[var_dfCereals['type'] == 'C'][['rating']].mean()\n",
    "\n",
    "print(f\"Hot {var_HotAvg}\")\n",
    "print(f\"Cold {var_ColdAvg}\")"
   ]
  },
  {
   "cell_type": "markdown",
   "id": "0bf67f60",
   "metadata": {},
   "source": [
    "# On Average, People have rated Hot cereal as better than Cold Cereals"
   ]
  },
  {
   "cell_type": "code",
   "execution_count": 12,
   "id": "62b88157",
   "metadata": {},
   "outputs": [
    {
     "data": {
      "text/html": [
       "<div>\n",
       "<style scoped>\n",
       "    .dataframe tbody tr th:only-of-type {\n",
       "        vertical-align: middle;\n",
       "    }\n",
       "\n",
       "    .dataframe tbody tr th {\n",
       "        vertical-align: top;\n",
       "    }\n",
       "\n",
       "    .dataframe thead th {\n",
       "        text-align: right;\n",
       "    }\n",
       "</style>\n",
       "<table border=\"1\" class=\"dataframe\">\n",
       "  <thead>\n",
       "    <tr style=\"text-align: right;\">\n",
       "      <th></th>\n",
       "      <th>fiber</th>\n",
       "    </tr>\n",
       "    <tr>\n",
       "      <th>name</th>\n",
       "      <th></th>\n",
       "    </tr>\n",
       "  </thead>\n",
       "  <tbody>\n",
       "    <tr>\n",
       "      <th>Post_Nat._Raisin_Bran</th>\n",
       "      <td>6.0</td>\n",
       "    </tr>\n",
       "  </tbody>\n",
       "</table>\n",
       "</div>"
      ],
      "text/plain": [
       "                       fiber\n",
       "name                        \n",
       "Post_Nat._Raisin_Bran    6.0"
      ]
     },
     "execution_count": 12,
     "metadata": {},
     "output_type": "execute_result"
    }
   ],
   "source": [
    "# 6. Which cereals have the highest fiber and lowest sugar?\n",
    "\n",
    "# Highest fiber\n",
    "\n",
    "var_dfCereals[var_dfCereals['fiber'] == var_dfCereals['fiber'].max()][['fiber']]"
   ]
  },
  {
   "cell_type": "code",
   "execution_count": 13,
   "id": "01bddc13",
   "metadata": {},
   "outputs": [
    {
     "data": {
      "text/html": [
       "<div>\n",
       "<style scoped>\n",
       "    .dataframe tbody tr th:only-of-type {\n",
       "        vertical-align: middle;\n",
       "    }\n",
       "\n",
       "    .dataframe tbody tr th {\n",
       "        vertical-align: top;\n",
       "    }\n",
       "\n",
       "    .dataframe thead th {\n",
       "        text-align: right;\n",
       "    }\n",
       "</style>\n",
       "<table border=\"1\" class=\"dataframe\">\n",
       "  <thead>\n",
       "    <tr style=\"text-align: right;\">\n",
       "      <th></th>\n",
       "      <th>sugars</th>\n",
       "    </tr>\n",
       "    <tr>\n",
       "      <th>name</th>\n",
       "      <th></th>\n",
       "    </tr>\n",
       "  </thead>\n",
       "  <tbody>\n",
       "    <tr>\n",
       "      <th>Golden_Crisp</th>\n",
       "      <td>15.0</td>\n",
       "    </tr>\n",
       "    <tr>\n",
       "      <th>Smacks</th>\n",
       "      <td>15.0</td>\n",
       "    </tr>\n",
       "  </tbody>\n",
       "</table>\n",
       "</div>"
      ],
      "text/plain": [
       "              sugars\n",
       "name                \n",
       "Golden_Crisp    15.0\n",
       "Smacks          15.0"
      ]
     },
     "execution_count": 13,
     "metadata": {},
     "output_type": "execute_result"
    }
   ],
   "source": [
    "# Lowest Sugar\n",
    "\n",
    "var_dfCereals[var_dfCereals['sugars'] == var_dfCereals['sugars'].max()][['sugars']]"
   ]
  },
  {
   "cell_type": "code",
   "execution_count": 14,
   "id": "8e2a1286",
   "metadata": {},
   "outputs": [
    {
     "data": {
      "text/html": [
       "<div>\n",
       "<style scoped>\n",
       "    .dataframe tbody tr th:only-of-type {\n",
       "        vertical-align: middle;\n",
       "    }\n",
       "\n",
       "    .dataframe tbody tr th {\n",
       "        vertical-align: top;\n",
       "    }\n",
       "\n",
       "    .dataframe thead th {\n",
       "        text-align: right;\n",
       "    }\n",
       "</style>\n",
       "<table border=\"1\" class=\"dataframe\">\n",
       "  <thead>\n",
       "    <tr style=\"text-align: right;\">\n",
       "      <th></th>\n",
       "      <th>protein</th>\n",
       "    </tr>\n",
       "    <tr>\n",
       "      <th>name</th>\n",
       "      <th></th>\n",
       "    </tr>\n",
       "  </thead>\n",
       "  <tbody>\n",
       "    <tr>\n",
       "      <th>All-Bran</th>\n",
       "      <td>4.0</td>\n",
       "    </tr>\n",
       "    <tr>\n",
       "      <th>All-Bran_with_Extra_Fiber</th>\n",
       "      <td>4.0</td>\n",
       "    </tr>\n",
       "    <tr>\n",
       "      <th>Life</th>\n",
       "      <td>4.0</td>\n",
       "    </tr>\n",
       "    <tr>\n",
       "      <th>Maypo</th>\n",
       "      <td>4.0</td>\n",
       "    </tr>\n",
       "    <tr>\n",
       "      <th>Muesli_Raisins,_Dates,_&amp;amp;_Almonds</th>\n",
       "      <td>4.0</td>\n",
       "    </tr>\n",
       "    <tr>\n",
       "      <th>Muesli_Raisins,_Peaches,_&amp;amp;_Pecans</th>\n",
       "      <td>4.0</td>\n",
       "    </tr>\n",
       "    <tr>\n",
       "      <th>Quaker_Oat_Squares</th>\n",
       "      <td>4.0</td>\n",
       "    </tr>\n",
       "  </tbody>\n",
       "</table>\n",
       "</div>"
      ],
      "text/plain": [
       "                                       protein\n",
       "name                                          \n",
       "All-Bran                                   4.0\n",
       "All-Bran_with_Extra_Fiber                  4.0\n",
       "Life                                       4.0\n",
       "Maypo                                      4.0\n",
       "Muesli_Raisins,_Dates,_&amp;_Almonds       4.0\n",
       "Muesli_Raisins,_Peaches,_&amp;_Pecans      4.0\n",
       "Quaker_Oat_Squares                         4.0"
      ]
     },
     "execution_count": 14,
     "metadata": {},
     "output_type": "execute_result"
    }
   ],
   "source": [
    "# 7. Which Cereals that have more than 3 grams of protein?\n",
    "\n",
    "var_dfCereals[var_dfCereals['protein'] > 3][['protein']]"
   ]
  },
  {
   "cell_type": "code",
   "execution_count": 15,
   "id": "4fc40506",
   "metadata": {},
   "outputs": [
    {
     "data": {
      "text/plain": [
       "<Axes: title={'center': 'Shelf data'}, xlabel='Shelf', ylabel='No. of Cereals'>"
      ]
     },
     "execution_count": 15,
     "metadata": {},
     "output_type": "execute_result"
    },
    {
     "data": {
      "image/png": "[encoded data removed]",
      "text/plain": [
       "<Figure size 640x480 with 1 Axes>"
      ]
     },
     "metadata": {},
     "output_type": "display_data"
    }
   ],
   "source": [
    "# 8. Tabulate and visualize Cereals by display Shelf\n",
    "\n",
    "# Getting a new Series with the shelf numbers and their respective counts\n",
    "\n",
    "var_nShelf = var_dfCereals['shelf'].value_counts().sort_index()\n",
    "\n",
    "# Plotting a bar graph with that info\n",
    "\n",
    "var_nShelf.plot(kind = 'bar', xlabel = 'Shelf', ylabel = 'No. of Cereals', title = 'Shelf data', rot = 0)"
   ]
  },
  {
   "cell_type": "code",
   "execution_count": 16,
   "id": "5e8679dc",
   "metadata": {},
   "outputs": [
    {
     "data": {
      "text/plain": [
       "<Axes: title={'center': \"Average sugar content in each brand's cereals\"}, xlabel='Brands', ylabel='Average Sugar content'>"
      ]
     },
     "execution_count": 16,
     "metadata": {},
     "output_type": "execute_result"
    },
    {
     "data": {
      "image/png": "[encoded data removed]",
      "text/plain": [
       "<Figure size 640x480 with 1 Axes>"
      ]
     },
     "metadata": {},
     "output_type": "display_data"
    }
   ],
   "source": [
    "# 9. How does the sugar content vary across different brands?\n",
    "\n",
    "# Finding average sugar content in cereals of each brand \n",
    "\n",
    "var_BrandSugarAvg = var_dfCereals.groupby('mfr')['sugars'].mean()\n",
    "\n",
    "# Plotting the mean sugar content vs Brand\n",
    "\n",
    "var_BrandSugarAvg.plot(kind = 'bar', xlabel = 'Brands', ylabel = 'Average Sugar content', title = 'Average sugar content in each brand\\'s cereals', rot = 0)"
   ]
  },
  {
   "cell_type": "code",
   "execution_count": 17,
   "id": "d4a7d120",
   "metadata": {},
   "outputs": [
    {
     "data": {
      "text/plain": [
       "mfr\n",
       "A    100.000000\n",
       "G    111.363636\n",
       "K    108.695652\n",
       "N     90.000000\n",
       "P    108.888889\n",
       "Q     95.000000\n",
       "R    115.000000\n",
       "Name: calories, dtype: float64"
      ]
     },
     "execution_count": 17,
     "metadata": {},
     "output_type": "execute_result"
    }
   ],
   "source": [
    "# 10. What is the average calories in cereals per manufacturer?\n",
    "\n",
    "# Average calories grouped by the manufacturer\n",
    "\n",
    "var_dfCereals.groupby('mfr')['calories'].mean()\n"
   ]
  },
  {
   "cell_type": "code",
   "execution_count": 18,
   "id": "ab4c7f96",
   "metadata": {},
   "outputs": [
    {
     "data": {
      "text/plain": [
       "calories    107.368421\n",
       "protein       2.401316\n",
       "fat           1.013158\n",
       "sodium      181.381579\n",
       "fiber         1.792105\n",
       "carbo        14.933333\n",
       "sugars        7.040000\n",
       "potass       85.821479\n",
       "vitamins     25.000000\n",
       "dtype: float64"
      ]
     },
     "execution_count": 18,
     "metadata": {},
     "output_type": "execute_result"
    }
   ],
   "source": [
    "# 11. What is the average nutritional content (calories, sugars, protein, fiber\n",
    "# , etc.) across allcereals?\n",
    "\n",
    "var_dfCereals.iloc[:,3:12].mean()"
   ]
  },
  {
   "cell_type": "code",
   "execution_count": 19,
   "id": "ec5e3133",
   "metadata": {},
   "outputs": [
    {
     "name": "stdout",
     "output_type": "stream",
     "text": [
      "0.574182136970384\n"
     ]
    }
   ],
   "source": [
    "# 12. What is the relationship between sugar and calories?\n",
    "\n",
    "# Correlation between Sugar and Calories\n",
    "\n",
    "print(var_dfCereals['sugars'].corr(var_dfCereals['calories']))"
   ]
  },
  {
   "cell_type": "code",
   "execution_count": 20,
   "id": "d84d3510",
   "metadata": {},
   "outputs": [
    {
     "data": {
      "text/plain": [
       "<Axes: title={'center': 'Sugar v/s Calories'}, xlabel='sugars', ylabel='calories'>"
      ]
     },
     "execution_count": 20,
     "metadata": {},
     "output_type": "execute_result"
    },
    {
     "data": {
      "image/png": "[encoded data removed]",
      "text/plain": [
       "<Figure size 640x480 with 1 Axes>"
      ]
     },
     "metadata": {},
     "output_type": "display_data"
    }
   ],
   "source": [
    "# Plot between Sugars and Calories\n",
    "\n",
    "var_dfCereals.plot(kind = 'scatter', x = 'sugars', y = 'calories', title = 'Sugar v/s Calories')"
   ]
  },
  {
   "cell_type": "code",
   "execution_count": 21,
   "id": "1ae6a7d5",
   "metadata": {},
   "outputs": [
    {
     "data": {
      "text/plain": [
       "<Axes: title={'center': 'Mean sugar content for High and Low rated cereals'}, xlabel='Ratings', ylabel='Sugar Content'>"
      ]
     },
     "execution_count": 21,
     "metadata": {},
     "output_type": "execute_result"
    },
    {
     "data": {
      "image/png": "[encoded data removed]",
      "text/plain": [
       "<Figure size 640x480 with 1 Axes>"
      ]
     },
     "metadata": {},
     "output_type": "display_data"
    }
   ],
   "source": [
    "# 13. How does the sugar content compare in cereals with high vs. low ratings?\n",
    "\n",
    "# High and low ratings\n",
    "\n",
    "var_HighRatings = var_dfCereals['rating'].quantile(0.75)\n",
    "\n",
    "var_LowRatings = var_dfCereals['rating'].quantile(0.75)\n",
    "\n",
    "# Plot  \n",
    "\n",
    "var_RatingSugarAvg = var_dfCereals[(var_dfCereals['rating'] > var_HighRatings) | (var_dfCereals['rating'] < var_LowRatings)]\n",
    "\n",
    "var_RatingSugarAvg = var_RatingSugarAvg.groupby(var_RatingSugarAvg['rating'] > var_HighRatings)['sugars'].mean()\n",
    "\n",
    "var_RatingSugarAvg.index = ['High Ratings','Low Ratings']\n",
    "\n",
    "var_RatingSugarAvg.plot(kind = 'bar',xlabel = 'Ratings', ylabel = 'Sugar Content', rot = 0, title = 'Mean sugar content for High and Low rated cereals')"
   ]
  },
  {
   "cell_type": "code",
   "execution_count": 22,
   "id": "03bd06af",
   "metadata": {},
   "outputs": [
    {
     "name": "stdout",
     "output_type": "stream",
     "text": [
      "Mean value of the \"Healthy\" cereals:56.521204499999996\n"
     ]
    }
   ],
   "source": [
    "# 14. Do cereals marketed as \"healthy\" (e.g., high fiber, low sugar) tend to have higher ratings?\n",
    "\n",
    "# Thresholds\n",
    "\n",
    "var_FiberThreshold = var_dfCereals['fiber'].quantile(0.5)\n",
    "\n",
    "var_SugarThreshold = var_dfCereals['sugars'].quantile(0.5)\n",
    "\n",
    "# Mean value of ratings\n",
    "\n",
    "print(f\"Mean value of the \\\"Healthy\\\" cereals:{var_dfCereals[(var_dfCereals['fiber'] > var_FiberThreshold) & (var_dfCereals['sugars'] < var_SugarThreshold)]['rating'].mean()}\")"
   ]
  },
  {
   "cell_type": "code",
   "execution_count": 23,
   "id": "4fd3c928",
   "metadata": {},
   "outputs": [
    {
     "name": "stdout",
     "output_type": "stream",
     "text": [
      "Correlation between Rating and Sugars : -0.7741948178286928\n"
     ]
    }
   ],
   "source": [
    "# 15. Is there a relationship between rating and display shelf?\n",
    "\n",
    "# Correlation\n",
    "\n",
    "print(f\"Correlation between Rating and Sugars : {var_dfCereals['rating'].corr(var_dfCereals['sugars'])}\")"
   ]
  },
  {
   "cell_type": "code",
   "execution_count": 24,
   "id": "afb34cda",
   "metadata": {},
   "outputs": [
    {
     "data": {
      "text/plain": [
       "<Axes: title={'center': 'Rating v/s Sugar'}, xlabel='rating', ylabel='sugars'>"
      ]
     },
     "execution_count": 24,
     "metadata": {},
     "output_type": "execute_result"
    },
    {
     "data": {
      "image/png": "[encoded data removed]",
      "text/plain": [
       "<Figure size 640x480 with 1 Axes>"
      ]
     },
     "metadata": {},
     "output_type": "display_data"
    }
   ],
   "source": [
    "# Plotting\n",
    "\n",
    "var_dfCereals.plot(kind = 'scatter', x = 'rating', y = 'sugars', title = 'Rating v/s Sugar')"
   ]
  }
 ],
 "metadata": {
  "kernelspec": {
   "display_name": ".VENV",
   "language": "python",
   "name": "python3"
  },
  "language_info": {
   "codemirror_mode": {
    "name": "ipython",
    "version": 3
   },
   "file_extension": ".py",
   "mimetype": "text/x-python",
   "name": "python",
   "nbconvert_exporter": "python",
   "pygments_lexer": "ipython3",
   "version": "3.12.5"
  }
 },
 "nbformat": 4,
 "nbformat_minor": 5
}
