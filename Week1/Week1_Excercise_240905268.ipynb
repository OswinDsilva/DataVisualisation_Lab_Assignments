{
 "cells": [
  {
   "cell_type": "code",
   "execution_count": 1,
   "id": "de4b4047",
   "metadata": {},
   "outputs": [],
   "source": [
    "# Data visualization\n",
    "# BTech Computer Science Stream, January 2025\n",
    "# Week 1 Python Language Basics\n",
    "# Name: Oswin Vion Dsilva, 240905268,Section CE, Date: 16/01/2024"
   ]
  },
  {
   "cell_type": "code",
   "execution_count": 2,
   "id": "bbb69e21",
   "metadata": {},
   "outputs": [
    {
     "name": "stdout",
     "output_type": "stream",
     "text": [
      "==============Calculator==============\n",
      "3.0 + 5.0 = 8.0\n",
      "======================================\n"
     ]
    }
   ],
   "source": [
    "# Question 1 \n",
    "# Write a Python function to input two numbers and perform the Calculator operations of (+, -, *, /).\n",
    "\n",
    "def fn_Calculator(var_A, var_B, var_C):\n",
    "    if(var_C == \"+\"):\n",
    "        return var_A + var_B\n",
    "    elif(var_C == \"-\"):\n",
    "        return var_A - var_B\n",
    "    elif(var_C == \"*\"):\n",
    "        return var_A * var_B\n",
    "    elif(var_C == \"/\"):\n",
    "        return var_A / var_B\n",
    "\n",
    "\n",
    "print(\"==============Calculator==============\")\n",
    "var_fA, var_fB = list(map(float,input(\"Enter two numbers A and B : \").split(\" \")))    \n",
    "var_strOperation = input(\"Enter the operation to perform(+,-,*,/)\")\n",
    "result = fn_Calculator(var_fA,var_fB, var_strOperation)\n",
    "if(var_strOperation == \"+\"):\n",
    "    print(f\"{var_fA} + {var_fB} = {result}\")\n",
    "elif(var_strOperation == \"-\"):\n",
    "    print(f\"{var_fA} - {var_fB} = {result}\")\n",
    "elif(var_strOperation == \"*\"):\n",
    "    print(f\"{var_fA} * {var_fB} = {result}\")\n",
    "elif(var_strOperation == \"/\"):\n",
    "    print(f\"{var_fA} / {var_fB} = {result}\")\n",
    "print(\"======================================\")\n",
    "    \n"
   ]
  },
  {
   "cell_type": "code",
   "execution_count": 3,
   "id": "d9422c9b",
   "metadata": {},
   "outputs": [
    {
     "name": "stdout",
     "output_type": "stream",
     "text": [
      "21 is not a Prime number\n"
     ]
    }
   ],
   "source": [
    "# Question 2 \n",
    "# Write a Python function that takes an integer and returns True if it’s a prime number and False otherwise.\n",
    "\n",
    "# Function to calculate whether the number is prime \n",
    "\n",
    "def fn_IsPrime(var_A):\n",
    "    for i in range(2,var_A//2+1):\n",
    "        if(var_A % i == 0):\n",
    "            return False\n",
    "    return True\n",
    "\n",
    "\n",
    "var_B = int(input(\"Enter a number:\"))\n",
    "if(fn_IsPrime(var_B)):\n",
    "    print(f\"{var_B} is a Prime number\")\n",
    "else:\n",
    "    print(f\"{var_B} is not a Prime number\")\n"
   ]
  },
  {
   "cell_type": "code",
   "execution_count": 4,
   "id": "795882a2",
   "metadata": {},
   "outputs": [
    {
     "name": "stdout",
     "output_type": "stream",
     "text": [
      "This program generates the odd numbers between 1 and 100 aswell as calculate the sum of even numbers in the same range.\n",
      "\n",
      "The odd numbers between 1 and 100 are: \n",
      "[1, 3, 5, 7, 9, 11, 13, 15, 17, 19, 21, 23, 25, 27, 29, 31, 33, 35, 37, 39, 41, 43, 45, 47, 49, 51, 53, 55, 57, 59, 61, 63, 65, 67, 69, 71, 73, 75, 77, 79, 81, 83, 85, 87, 89, 91, 93, 95, 97, 99]\n",
      "\n",
      "The sum of even numbers between 1 and 100 is 2450\n"
     ]
    }
   ],
   "source": [
    "# Question 3\n",
    "# Create a Python function that creates a sequence between 1 and 100 and prints all the odd numbers. \n",
    "# Compute and display the sum of all the even numbers.\n",
    "\n",
    "# Function to calculate the sequence and the sum\n",
    "\n",
    "def fn_PrintSeq(var_seqA = []):\n",
    "    var_evensum = 0\n",
    "    for i in range(1,100):\n",
    "        if(i%2!=0):\n",
    "            var_seqA.append(i)\n",
    "        else:\n",
    "            var_evensum += i\n",
    "    return var_evensum,var_seqA\n",
    "\n",
    "\n",
    "var_sum , var_seqB = fn_PrintSeq()\n",
    "print(\"This program generates the odd numbers between 1 and 100 aswell as calculate the sum of even numbers in the same range.\\n\")\n",
    "print(f\"The odd numbers between 1 and 100 are: \\n{var_seqB}\\n\")\n",
    "print(f\"The sum of even numbers between 1 and 100 is {var_sum}\")\n",
    "\n",
    "        "
   ]
  },
  {
   "cell_type": "code",
   "execution_count": 5,
   "id": "a24ca2fb",
   "metadata": {},
   "outputs": [
    {
     "name": "stdout",
     "output_type": "stream",
     "text": [
      "The result is Hello, I am Oswin\n"
     ]
    }
   ],
   "source": [
    "# Question 4\n",
    "# Write a Python function to add two elements and display the result. The elements can be of type integer, float or string.\n",
    "\n",
    "#Function to sum the variables\n",
    "\n",
    "def fn_Sum(var_A,var_B,var_typeparameter):\n",
    "    if(var_typeparameter.upper() == \"INT\"):\n",
    "        return int(var_A) + int(var_B)\n",
    "    if(var_typeparameter.upper() == \"FLOAT\"):\n",
    "        return float(var_A) + float(var_B)\n",
    "    return var_A + var_B\n",
    "\n",
    "\n",
    "var_C = input(\"Enter first input : \")\n",
    "var_D = input(\"Enter second input : \")\n",
    "var_type = input(\"Enter the type of the elements(Int, Float, String)\")\n",
    "print(f\"The result is {fn_Sum(var_C,var_D,var_type)}\")"
   ]
  },
  {
   "cell_type": "code",
   "execution_count": 7,
   "id": "3b650946",
   "metadata": {},
   "outputs": [
    {
     "name": "stdout",
     "output_type": "stream",
     "text": [
      "The string is Vowels&Consonants\n",
      "The number of vowels = 5\n",
      "The number of consonants = 11\n"
     ]
    }
   ],
   "source": [
    "# Question 5\n",
    "# Write a Python function that takes a string input from the user and counts the number of vowels and consonants in the string.\n",
    "\n",
    "# Function to count number of consonants and vowels\n",
    "\n",
    "def fn_vowels_and_consonants(var_strA):\n",
    "    var_ConsonantSum = 0\n",
    "    var_VowelSum = 0\n",
    "    var_seqVowels = [\"A\",\"E\",\"I\",\"O\",\"U\"]\n",
    "    for letter in var_strA:\n",
    "        if(not letter.isalpha()):\n",
    "            continue\n",
    "        if letter.upper() in var_seqVowels:\n",
    "            var_VowelSum += 1\n",
    "        else:\n",
    "            var_ConsonantSum += 1\n",
    "    return var_VowelSum, var_ConsonantSum\n",
    "\n",
    "\n",
    "var_strB = input(\"Enter a string:\")\n",
    "var_SumVowels ,var_SumConsonants = fn_vowels_and_consonants(var_strB)\n",
    "print(f\"\"\"The string is {var_strB}\n",
    "The number of vowels = {var_SumVowels}\n",
    "The number of consonants = {var_SumConsonants}\"\"\")\n"
   ]
  }
 ],
 "metadata": {
  "kernelspec": {
   "display_name": ".venv",
   "language": "python",
   "name": "python3"
  },
  "language_info": {
   "codemirror_mode": {
    "name": "ipython",
    "version": 3
   },
   "file_extension": ".py",
   "mimetype": "text/x-python",
   "name": "python",
   "nbconvert_exporter": "python",
   "pygments_lexer": "ipython3",
   "version": "3.12.5"
  }
 },
 "nbformat": 4,
 "nbformat_minor": 5
}
