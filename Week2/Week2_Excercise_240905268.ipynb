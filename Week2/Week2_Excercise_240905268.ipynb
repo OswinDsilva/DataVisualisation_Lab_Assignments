{
 "cells": [
  {
   "cell_type": "code",
   "execution_count": 1,
   "metadata": {},
   "outputs": [],
   "source": [
    "# Data visualization\n",
    "# BTech Computer Science Stream, January 2025\n",
    "# Week 2 Python Language Basics\n",
    "# Name: Oswin Vion Dsilva, 240905268,Section CE, Date: 23/01/2024"
   ]
  },
  {
   "cell_type": "code",
   "execution_count": 2,
   "metadata": {},
   "outputs": [
    {
     "ename": "ValueError",
     "evalue": "invalid literal for int() with base 10: ''",
     "output_type": "error",
     "traceback": [
      "\u001b[1;31m---------------------------------------------------------------------------\u001b[0m",
      "\u001b[1;31mValueError\u001b[0m                                Traceback (most recent call last)",
      "Cell \u001b[1;32mIn[2], line 9\u001b[0m\n\u001b[0;32m      6\u001b[0m var_seqA \u001b[38;5;241m=\u001b[39m \u001b[38;5;28mlist\u001b[39m(\u001b[38;5;28mmap\u001b[39m(\u001b[38;5;28mint\u001b[39m, \u001b[38;5;28minput\u001b[39m(\u001b[38;5;124m\"\u001b[39m\u001b[38;5;124mEnter numbers:\u001b[39m\u001b[38;5;124m\"\u001b[39m)\u001b[38;5;241m.\u001b[39mstrip()\u001b[38;5;241m.\u001b[39msplit()))\n\u001b[0;32m      8\u001b[0m \u001b[38;5;66;03m# Accepting the number to be counted\u001b[39;00m\n\u001b[1;32m----> 9\u001b[0m var_num \u001b[38;5;241m=\u001b[39m \u001b[38;5;28;43mint\u001b[39;49m\u001b[43m(\u001b[49m\u001b[38;5;28;43minput\u001b[39;49m\u001b[43m(\u001b[49m\u001b[38;5;124;43m\"\u001b[39;49m\u001b[38;5;124;43mEnter number to be counted:\u001b[39;49m\u001b[38;5;124;43m\"\u001b[39;49m\u001b[43m)\u001b[49m\u001b[43m)\u001b[49m\n\u001b[0;32m     11\u001b[0m \u001b[38;5;66;03m# Operations and printing the result\u001b[39;00m\n\u001b[0;32m     12\u001b[0m \u001b[38;5;28mprint\u001b[39m(\u001b[38;5;124mf\u001b[39m\u001b[38;5;124m\"\u001b[39m\u001b[38;5;124mSum = \u001b[39m\u001b[38;5;132;01m{\u001b[39;00m\u001b[38;5;28msum\u001b[39m(var_seqA)\u001b[38;5;132;01m}\u001b[39;00m\u001b[38;5;124m\"\u001b[39m)\n",
      "\u001b[1;31mValueError\u001b[0m: invalid literal for int() with base 10: ''"
     ]
    }
   ],
   "source": [
    "# Question 1\n",
    "# Write a Python code block that inputs numbers into a list. Print the largest, smallest, the sum, and \n",
    "# the average of the numbers. Count occurrences of a specific number in the list.\n",
    "\n",
    "# Accepting a list \n",
    "var_seqA = list(map(int, input(\"Enter numbers:\").strip().split()))\n",
    "\n",
    "# Accepting the number to be counted\n",
    "var_num = int(input(\"Enter number to be counted:\"))\n",
    "\n",
    "# Operations and printing the result\n",
    "print(f\"Sum = {sum(var_seqA)}\")\n",
    "print(f\"Largest = {max(var_seqA)}\")\n",
    "print(f\"Smallests = {min(var_seqA)}\")\n",
    "print(f\"Average = {sum(var_seqA)/len(var_seqA)}\")\n",
    "print(f\"Occurences of {var_num} is {var_seqA.count(var_num)}\")"
   ]
  },
  {
   "cell_type": "code",
   "execution_count": 3,
   "metadata": {},
   "outputs": [
    {
     "name": "stdout",
     "output_type": "stream",
     "text": [
      "Error:'tuple' object does not support item assignment\n",
      "A tuple is an immutable object, which means it cannot be changed once it has been initialized\n"
     ]
    }
   ],
   "source": [
    "# Question 2\n",
    "# Write a Python code block to create a tuple with five elements. Try to change one of the elements and handle \n",
    "# the error that occurs. Print a message that explains why the error occurred.\n",
    "\n",
    "# Accepting the tuple\n",
    "var_seqB = tuple(map(int, input(\"Enter 5 numbers:\").strip().split()))\n",
    "\n",
    "# Attempting to assign to a tuple\n",
    "try:\n",
    "    var_seqB[0] = 5\n",
    "except:\n",
    "    print(\"Error:'tuple' object does not support item assignment\")\n",
    "    print(\"A tuple is an immutable object, which means it cannot be changed once it has been initialized\")"
   ]
  },
  {
   "cell_type": "code",
   "execution_count": 4,
   "metadata": {},
   "outputs": [
    {
     "name": "stdout",
     "output_type": "stream",
     "text": [
      "The country with the best performance is :India\n",
      "List of unique countries that have won the world cup:{'India', 'England', 'Australia'}\n"
     ]
    }
   ],
   "source": [
    "# Question 3\n",
    "# Write a Python code block to create a dictionary of cricket World Cup winners. Let the key be the year; the value is \n",
    "# the country that won the World Cup that year. Print the name of the best-performing country. \n",
    "# Display the unique list of countries that have won the World Cup.\n",
    "\n",
    "#Accepting the countries and years\n",
    "var_seqYear = input(\"Enter the years in which a world cup was held:\").split(\" \")\n",
    "var_seqCountries = input(\"Enter the countries who won those world cups in order:\").split(\" \")\n",
    "\n",
    "# Converting the years and countries into a dictionary\n",
    "var_dictA = dict(zip(var_seqYear, var_seqCountries))\n",
    "        \n",
    "# Operations to get the result\n",
    "# First dictionary contains the years as key and countries as value, then create another dictionary with countries as key and\n",
    "# their frequency as values. Reverse the dictionary to get frequency as key and countries as value. Now running max() over the \n",
    "# dictionary returns the biggest key , and using that key you can find the corresponding country with best performance.\n",
    "var_dictB = {}\n",
    "for value in set(var_dictA.values()):\n",
    "    var_dictB[value] = 0\n",
    "    for key in var_dictA:\n",
    "        if(var_dictA[key] == value):\n",
    "            var_dictB[value] += 1\n",
    "var_dictB = dict(zip(var_dictB.values(),var_dictB.keys()))\n",
    "\n",
    "#Printing the output\n",
    "print(f\"The country with the best performance is :{var_dictB[max(var_dictB)]}\")\n",
    "print(f\"List of unique countries that have won the world cup:{set(var_seqCountries)}\")"
   ]
  },
  {
   "cell_type": "code",
   "execution_count": 5,
   "metadata": {},
   "outputs": [
    {
     "name": "stdout",
     "output_type": "stream",
     "text": [
      "The dictionary of words and their frequency : \n",
      " {'Hi,': 1, 'i': 2, 'am': 1, 'oswin': 1, 'and': 1, 'love': 1, 'chess': 1}\n"
     ]
    }
   ],
   "source": [
    "# Question 4\n",
    "# Write a Python code block that inputs a sentence from the user. Count the frequency of each word in the sentence and \n",
    "# store the result in a dictionary. Prints the dictionary with words as keys and their frequencies as values.\n",
    "\n",
    "# Accepting the sentence\n",
    "var_strA = list(input(\"Enter a sentence:\").split())\n",
    "\n",
    "# Operations to get result\n",
    "# Traverse through each word of the sentence, assign the word as key and correspoding frequency as a value using the count() \n",
    "# method. If a repeated word is encountered again, then it continues to next iteration of the loop .\n",
    "var_dictC = {}\n",
    "for word in var_strA:\n",
    "    if word in var_dictC:\n",
    "        continue\n",
    "    var_dictC[word] = var_strA.count(word)\n",
    "        \n",
    "# Printing the output\n",
    "print(f\"The dictionary of words and their frequency : \\n {var_dictC}\")"
   ]
  },
  {
   "cell_type": "code",
   "execution_count": 6,
   "metadata": {},
   "outputs": [
    {
     "name": "stdout",
     "output_type": "stream",
     "text": [
      "Union of set A and B: {1, 2, 3, 4}\n",
      "Intersection of set A and B: {2, 3}\n",
      "Difference B-A: {4}\n",
      "Difference A-B: {1}\n"
     ]
    }
   ],
   "source": [
    "# Question 5\n",
    "# Write a Python code block to input numbers into two sets. Perform union, intersection, and \n",
    "# difference operations on the sets and print the results.\n",
    "\n",
    "# Accepting input\n",
    "var_setA = set(map(int,input(\"Enter numbers of set A:\").split()))\n",
    "var_setB = set(map(int,input(\"Enter numbers of set B:\").split()))\n",
    "\n",
    "# Operations and printing the result\n",
    "print(f\"Union of set A and B: {var_setA.union(var_setB)}\")\n",
    "print(f\"Intersection of set A and B: {var_setA.intersection(var_setB)}\")\n",
    "print(f\"Difference B-A: {var_setB.difference(var_setA)}\")\n",
    "print(f\"Difference A-B: {var_setA.difference(var_setB)}\")\n"
   ]
  }
 ],
 "metadata": {
  "kernelspec": {
   "display_name": ".venv",
   "language": "python",
   "name": "python3"
  },
  "language_info": {
   "codemirror_mode": {
    "name": "ipython",
    "version": 3
   },
   "file_extension": ".py",
   "mimetype": "text/x-python",
   "name": "python",
   "nbconvert_exporter": "python",
   "pygments_lexer": "ipython3",
   "version": "3.12.5"
  }
 },
 "nbformat": 4,
 "nbformat_minor": 2
}
