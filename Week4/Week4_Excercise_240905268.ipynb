{
 "cells": [
  {
   "cell_type": "code",
   "execution_count": 137,
   "metadata": {},
   "outputs": [],
   "source": [
    "# Data visualization\n",
    "# BTech Computer Science Stream, January 2025\n",
    "# Week 4 Python Language Basics\n",
    "# Name: Oswin Vion Dsilva, 240905268,Section CE, Date: 06/02/2025"
   ]
  },
  {
   "cell_type": "code",
   "execution_count": 138,
   "metadata": {},
   "outputs": [],
   "source": [
    "import numpy as np\n",
    "import pandas as pd"
   ]
  },
  {
   "cell_type": "code",
   "execution_count": 139,
   "metadata": {},
   "outputs": [],
   "source": [
    "# Question 1 \n",
    "# Create a Series from a list of integers representing daily temperatures (in Celsius) over a week. Assign index labels as day\n",
    "# of the week.\n",
    "# a. Find and print the average (mean) temperature for the week.\n",
    "# b. Identify and print the maximum and minimum temperatures and their respective days.\n",
    "# c. Display the temperatures greater than a specific value.\n",
    "# d. Convert all temperatures to Fahrenheit.\n",
    "# e. Print the days had temperatures above the average.\n",
    "\n",
    "# Creating Series with Labels as the days of the week\n",
    "\n",
    "var_serTemp = pd.Series([20,28,31,32,24,27,40],index=[\"Monday\",\"Tuesday\",\"Wednesday\",\"Thursday\",\"Friday\",\"Saturday\",\"Sunday\"])\n"
   ]
  },
  {
   "cell_type": "code",
   "execution_count": 140,
   "metadata": {},
   "outputs": [
    {
     "name": "stdout",
     "output_type": "stream",
     "text": [
      "Average :28.857142857142858\n"
     ]
    }
   ],
   "source": [
    "# Printing the mean using Series.mean() method from pandas\n",
    "\n",
    "print(f\"Average :{var_serTemp.mean()}\")"
   ]
  },
  {
   "cell_type": "code",
   "execution_count": 141,
   "metadata": {},
   "outputs": [
    {
     "name": "stdout",
     "output_type": "stream",
     "text": [
      "Maximum temperature = 40\n",
      "Minimum temperature = 20\n"
     ]
    }
   ],
   "source": [
    "# Printing maximum and minimum temperature using Series.max() and Series.min() method respectively\n",
    "\n",
    "print(f\"Maximum temperature = {var_serTemp[var_serTemp.idxmax()]}\") \n",
    "\n",
    "print(f\"Minimum temperature = {var_serTemp[var_serTemp.idxmin()]}\")"
   ]
  },
  {
   "cell_type": "code",
   "execution_count": 142,
   "metadata": {},
   "outputs": [
    {
     "name": "stdout",
     "output_type": "stream",
     "text": [
      "Greater than 30 : \n",
      "Wednesday    31\n",
      "Thursday     32\n",
      "Sunday       40\n",
      "dtype: int64\n"
     ]
    }
   ],
   "source": [
    "# Number to find greater than\n",
    "\n",
    "var_A = int(input())\n",
    "\n",
    "# Printing temperatures greater than the input value\n",
    "\n",
    "var_serResultA = var_serTemp[var_serTemp>var_A]\n",
    "\n",
    "print(f\"Greater than {var_A} : \\n{var_serResultA}\")"
   ]
  },
  {
   "cell_type": "code",
   "execution_count": 143,
   "metadata": {},
   "outputs": [
    {
     "name": "stdout",
     "output_type": "stream",
     "text": [
      "Temperature in Fahrenheit :\n",
      "Monday        68.0\n",
      "Tuesday       82.4\n",
      "Wednesday     87.8\n",
      "Thursday      89.6\n",
      "Friday        75.2\n",
      "Saturday      80.6\n",
      "Sunday       104.0\n",
      "dtype: float64\n"
     ]
    }
   ],
   "source": [
    "# Converting to Fahrenheit\n",
    "\n",
    "print(f\"Temperature in Fahrenheit :\\n{(var_serTemp*9/5)+32}\")"
   ]
  },
  {
   "cell_type": "code",
   "execution_count": 144,
   "metadata": {},
   "outputs": [
    {
     "name": "stdout",
     "output_type": "stream",
     "text": [
      "Greater than average :\n",
      "Wednesday    31\n",
      "Thursday     32\n",
      "Sunday       40\n",
      "dtype: int64\n"
     ]
    }
   ],
   "source": [
    "# Printing greater than average\n",
    "\n",
    "var_serResultB = var_serTemp[var_serTemp>var_serTemp.mean()]\n",
    "\n",
    "print(f\"Greater than average :\\n{var_serResultB}\")"
   ]
  },
  {
   "cell_type": "code",
   "execution_count": 145,
   "metadata": {},
   "outputs": [],
   "source": [
    "# Question 2\n",
    "# Create a data frame with details of 10 students and columns as Roll Number, Name, Gender, Marks1, Marks2, Marks3.\n",
    "# a. Create a new column with total marks\n",
    "# b. Find the lowest marks in Marks1\n",
    "# c. Find the Highest marks in Marks2\n",
    "# d. Find the average marks in Marks3\n",
    "# e. Find student name with highest average\n",
    "# f. Find how many students failed in Marks2 (<40)\n",
    "\n",
    "#Creating the dataframe\n",
    "\n",
    "var_data = {\n",
    "    \"Roll_Number\" : [1,2,3,4,5,6,7,8,9,10],\n",
    "    \"Name\" :  [\"Christopher\",\"Sergio\",\"Wendy\",\"Beckett\",\"Beckham\",\"Madilyn\",\"Anne\",\"Cameron\",\"Fabian\",\"Ronan\"],\n",
    "    \"Gender\" : [\"M\",\"M\",\"F\",\"F\",\"M\",\"F\",\"F\",\"M\",\"M\",\"M\"],\n",
    "    \"Marks1\" : [64,74,64,83,98,76,87,60,95,33],\n",
    "    \"Marks2\" : [36,31,95,65,24,75,86,57,43,30],\n",
    "    \"Marks3\" : [20,98,85,40,97,42,80,71,27,82]\n",
    "}\n",
    "\n",
    "var_dfStudent = pd.DataFrame(var_data)\n"
   ]
  },
  {
   "cell_type": "code",
   "execution_count": 146,
   "metadata": {},
   "outputs": [
    {
     "name": "stdout",
     "output_type": "stream",
     "text": [
      "   Roll_Number         Name Gender  Marks1  Marks2  Marks3  Total_marks\n",
      "0            1  Christopher      M      64      36      20          120\n",
      "1            2       Sergio      M      74      31      98          203\n",
      "2            3        Wendy      F      64      95      85          244\n",
      "3            4      Beckett      F      83      65      40          188\n",
      "4            5      Beckham      M      98      24      97          219\n",
      "5            6      Madilyn      F      76      75      42          193\n",
      "6            7         Anne      F      87      86      80          253\n",
      "7            8      Cameron      M      60      57      71          188\n",
      "8            9       Fabian      M      95      43      27          165\n",
      "9           10        Ronan      M      33      30      82          145\n"
     ]
    }
   ],
   "source": [
    "# Adding the total marks column \n",
    "\n",
    "var_dfStudent['Total_marks'] = var_dfStudent['Marks1']+var_dfStudent['Marks2']+var_dfStudent['Marks3']\n",
    "\n",
    "# Printing the data frame to display the new column\n",
    "\n",
    "print(var_dfStudent)"
   ]
  },
  {
   "cell_type": "code",
   "execution_count": 147,
   "metadata": {},
   "outputs": [
    {
     "name": "stdout",
     "output_type": "stream",
     "text": [
      "Minimum of marks 1: 33\n"
     ]
    }
   ],
   "source": [
    "# Printing lowest marks in Marks1 column\n",
    "\n",
    "print(f\"Minimum of marks 1: {var_dfStudent['Marks1'].min()}\")"
   ]
  },
  {
   "cell_type": "code",
   "execution_count": 148,
   "metadata": {},
   "outputs": [
    {
     "name": "stdout",
     "output_type": "stream",
     "text": [
      "Maximum of marks 2: 95\n"
     ]
    }
   ],
   "source": [
    "# Printing highest marks in Marks2 column\n",
    "\n",
    "print(f\"Maximum of marks 2: {var_dfStudent['Marks2'].max()}\")"
   ]
  },
  {
   "cell_type": "code",
   "execution_count": 149,
   "metadata": {},
   "outputs": [
    {
     "name": "stdout",
     "output_type": "stream",
     "text": [
      "Average of marks 3: 64.2\n"
     ]
    }
   ],
   "source": [
    "# Printing Average of marks in Marks3 column\n",
    "\n",
    "print(f\"Average of marks 3: {var_dfStudent['Marks3'].mean()}\")"
   ]
  },
  {
   "cell_type": "code",
   "execution_count": 150,
   "metadata": {},
   "outputs": [
    {
     "name": "stdout",
     "output_type": "stream",
     "text": [
      "Student with highest average: Anne\n"
     ]
    }
   ],
   "source": [
    "# Printing Student name with highest average\n",
    "\n",
    "# Calculating the average involves dividing every total marks by 3 \n",
    "# Therefore,Finding Student with highest average is the same as finding the Student with the highest total marks\n",
    "\n",
    "print(f\"Student with highest average: {var_dfStudent['Name'][var_dfStudent['Total_marks'].idxmax(axis=0)]}\")"
   ]
  },
  {
   "cell_type": "code",
   "execution_count": 151,
   "metadata": {},
   "outputs": [
    {
     "name": "stdout",
     "output_type": "stream",
     "text": [
      "Number of Students who failed : 4\n"
     ]
    }
   ],
   "source": [
    "# Printing number of students who failed\n",
    "\n",
    "print(f\"Number of Students who failed : {var_dfStudent[var_dfStudent['Marks2']<40]['Name'].count()}\")"
   ]
  }
 ],
 "metadata": {
  "kernelspec": {
   "display_name": ".VENV",
   "language": "python",
   "name": "python3"
  },
  "language_info": {
   "codemirror_mode": {
    "name": "ipython",
    "version": 3
   },
   "file_extension": ".py",
   "mimetype": "text/x-python",
   "name": "python",
   "nbconvert_exporter": "python",
   "pygments_lexer": "ipython3",
   "version": "3.12.5"
  }
 },
 "nbformat": 4,
 "nbformat_minor": 2
}
