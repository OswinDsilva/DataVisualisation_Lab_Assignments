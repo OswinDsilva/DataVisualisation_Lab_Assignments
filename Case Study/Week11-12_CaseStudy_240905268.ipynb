{
 "cells": [
  {
   "cell_type": "code",
   "execution_count": null,
   "metadata": {},
   "outputs": [],
   "source": [
    "# Data visualization\n",
    "# BTech Computer Science Stream, January 2025\n",
    "# Week 11 & 12 - Time Series Case Study \n",
    "# Name: Oswin Vion Dsilva, 240905268, Section CE, Date: 26/03/2024"
   ]
  },
  {
   "cell_type": "markdown",
   "metadata": {},
   "source": [
    "# Importing libraries"
   ]
  },
  {
   "cell_type": "code",
   "execution_count": null,
   "metadata": {},
   "outputs": [],
   "source": [
    "# Imports\n",
    "\n",
    "import pandas as pd\n",
    "import numpy as np\n",
    "import matplotlib.pyplot as plt\n",
    "import seaborn as sns"
   ]
  },
  {
   "cell_type": "markdown",
   "metadata": {},
   "source": [
    "# Loading the csv data into dataframes"
   ]
  },
  {
   "cell_type": "code",
   "execution_count": null,
   "metadata": {},
   "outputs": [],
   "source": [
    "# Loading the data \n",
    "\n",
    "var_dfStocks = pd.read_csv(\"nvidia_stock_data.csv\")\n",
    "\n",
    "var_dfStocks"
   ]
  },
  {
   "cell_type": "markdown",
   "metadata": {},
   "source": [
    "# Section 1 : Exploratory Analysis"
   ]
  },
  {
   "cell_type": "code",
   "execution_count": null,
   "metadata": {},
   "outputs": [],
   "source": [
    "# Checking Data types and presence of null values\n",
    "\n",
    "var_dfStocks.info()"
   ]
  },
  {
   "cell_type": "code",
   "execution_count": null,
   "metadata": {},
   "outputs": [],
   "source": [
    "# Checking general statistics of the data\n",
    "\n",
    "var_dfStocks.describe()"
   ]
  },
  {
   "cell_type": "code",
   "execution_count": null,
   "metadata": {},
   "outputs": [],
   "source": [
    "# Box plot to gauge the data\n",
    "\n",
    "for col in ['Open','High','Low','Close','Adj Close','Volume']:\n",
    "    plt.figure()\n",
    "    sns.boxplot(data = var_dfStocks[col])\n",
    "    plt.title(f\"Box plot of {col}\")\n",
    "    plt.show()"
   ]
  },
  {
   "cell_type": "markdown",
   "metadata": {},
   "source": [
    "# Section 2 : Data Pre-processing"
   ]
  },
  {
   "cell_type": "code",
   "execution_count": null,
   "metadata": {},
   "outputs": [],
   "source": [
    "# Function to split the data into year , month and day\n",
    "\n",
    "def date_split(df):\n",
    "    df[['Day','Month','Year']] = df['Date'].str.split('-', expand = True).astype('int64')\n",
    "    \n",
    "    return df"
   ]
  },
  {
   "cell_type": "code",
   "execution_count": null,
   "metadata": {},
   "outputs": [],
   "source": [
    "# Splitting the date using the function\n",
    "\n",
    "var_dfStocks = date_split(var_dfStocks)\n",
    "\n",
    "var_dfStocks"
   ]
  },
  {
   "cell_type": "code",
   "execution_count": null,
   "metadata": {},
   "outputs": [],
   "source": [
    "# Converting the date into a date object type\n",
    "\n",
    "var_dfStocks['Date'] = pd.to_datetime(var_dfStocks['Date'], dayfirst = True)\n",
    "\n",
    "var_dfStocks.info()"
   ]
  },
  {
   "cell_type": "code",
   "execution_count": null,
   "metadata": {},
   "outputs": [],
   "source": [
    "# Labelling as Increase or Decrease for the day\n",
    "\n",
    "var_dfStocks['Net'] = np.where(var_dfStocks['Close'] > var_dfStocks['Open'], 'Gain','Loss')\n",
    "\n",
    "var_dfStocks"
   ]
  },
  {
   "cell_type": "markdown",
   "metadata": {},
   "source": [
    "# Data visualization"
   ]
  },
  {
   "cell_type": "code",
   "execution_count": null,
   "metadata": {},
   "outputs": [],
   "source": [
    "# Function to plot candlestick plot for any given dataframe\n",
    "\n",
    "def plot_candlestick(df,w1,w2):\n",
    "    var_dfGain = df[df['Net'] == \"Gain\"]\n",
    "\n",
    "    var_dfLoss = df[df['Net'] == \"Loss\"]\n",
    "\n",
    "    var_Color_up = 'green'\n",
    "    var_Color_down = 'red'\n",
    "\n",
    "    width1 = w1\n",
    "    width2 = w2\n",
    "\n",
    "    plt.figure(figsize=(9,9))\n",
    "\n",
    "    # Plotting the Net Increase values\n",
    "    ## Plotting the Net value change whose width should be the closing value - opening value, but should go above the opening values since this is for Gain\n",
    "    plt.bar(var_dfGain.Date, var_dfGain.Close - var_dfGain.Open, width1, bottom = var_dfGain.Open, color = var_Color_up)\n",
    "\n",
    "    ## Plotting the thin bars representing the peak value \n",
    "    plt.bar(var_dfGain.Date, var_dfGain.High - var_dfGain.Close , width2, bottom = var_dfGain.Close, color = var_Color_up)\n",
    "\n",
    "    ## Plotting the thin bars representing the lowest value\n",
    "    plt.bar(var_dfGain.Date, var_dfGain.Low - var_dfGain.Open, width2, bottom = var_dfGain.Open, color = var_Color_up)\n",
    "\n",
    "    # Plotting the Net Decrease values\n",
    "    ## Plotting the Net value change whose width should be the opening value - closing value but should go below the opening values since this is for Loss\n",
    "    plt.bar(var_dfLoss.Date, var_dfLoss.Close - var_dfLoss.Open, width1, bottom = var_dfLoss.Open, color = var_Color_down)\n",
    "\n",
    "    ## Plotting the thin bars representing the peak value\n",
    "    plt.bar(var_dfLoss.Date, var_dfLoss.High - var_dfLoss.Open, width2, bottom = var_dfLoss.Open, color = var_Color_down)\n",
    "\n",
    "    ## Plotting the thin bars representing the lowest value\n",
    "    plt.bar(var_dfLoss.Date, var_dfLoss.Low - var_dfLoss.Close, width2, bottom = var_dfLoss.Close, color = var_Color_down)\n"
   ]
  },
  {
   "cell_type": "code",
   "execution_count": null,
   "metadata": {},
   "outputs": [],
   "source": [
    "# Candle Stick graph for the entire time period \n",
    "\n",
    "plot_candlestick(var_dfStocks,5,0.5)\n",
    "plt.show()"
   ]
  },
  {
   "cell_type": "markdown",
   "metadata": {},
   "source": [
    "# As we can see, there are breakages in the graph .\n",
    "# This is mainly due to 2 reasons:\n",
    "# 1. Unavailable data on those days\n",
    "# 2. After hour/pre-market trading \n",
    "\n",
    "# A better analysis would be visualizing the month by month candle stick graphs for each year "
   ]
  },
  {
   "cell_type": "code",
   "execution_count": null,
   "metadata": {},
   "outputs": [],
   "source": [
    "var_plot_num = 1\n",
    "\n",
    "var_mapNumberToMonth = {\n",
    "    1:'January',\n",
    "    2:'February',\n",
    "    3:'March',\n",
    "    4:'April',\n",
    "    5:'May',\n",
    "    6:'June',\n",
    "    7:'July',\n",
    "    8:'August',\n",
    "    9:'September',\n",
    "    10:'October',\n",
    "    11:'November',\n",
    "    12:'December'}\n",
    "\n",
    "for year in var_dfStocks['Year'].unique():\n",
    "    for month in var_dfStocks['Month'].unique():\n",
    "        var_dfPlotting = var_dfStocks[(var_dfStocks['Month'] == month) & (var_dfStocks['Year'] == year)]\n",
    "        plot_candlestick(var_dfPlotting,0.3,0.03)\n",
    "        month = var_mapNumberToMonth[month]\n",
    "        plt.title(f\"Stock prices for each day of {month} for the year {year}\")\n",
    "        plt.xticks(size = 7)\n",
    "        plt.show()"
   ]
  },
  {
   "cell_type": "code",
   "execution_count": null,
   "metadata": {},
   "outputs": [],
   "source": []
  }
 ],
 "metadata": {
  "kernelspec": {
   "display_name": ".VENV",
   "language": "python",
   "name": "python3"
  },
  "language_info": {
   "codemirror_mode": {
    "name": "ipython",
    "version": 3
   },
   "file_extension": ".py",
   "mimetype": "text/x-python",
   "name": "python",
   "nbconvert_exporter": "python",
   "pygments_lexer": "ipython3",
   "version": "3.12.5"
  }
 },
 "nbformat": 4,
 "nbformat_minor": 2
}
